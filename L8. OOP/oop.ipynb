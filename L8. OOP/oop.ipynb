{
 "cells": [
  {
   "cell_type": "markdown",
   "metadata": {},
   "source": [
    "# Object-Oriented Programming (OOP) "
   ]
  },
  {
   "cell_type": "markdown",
   "metadata": {},
   "source": [
    "## Tuple, List and Dict"
   ]
  },
  {
   "cell_type": "code",
   "execution_count": null,
   "metadata": {},
   "outputs": [],
   "source": [
    "# Basic method\n",
    "def get_name():\n",
    "    return input(\"Name: \")\n",
    "\n",
    "def get_house():\n",
    "    return input(\"House: \")\n",
    "\n",
    "# Seperate return\n",
    "def get_student():\n",
    "    name = input(\"Name: \")\n",
    "    house = input(\"House: \")\n",
    "    return name, house\n",
    "\n",
    "# Tuple return - this type of return will restrict it is changed by other code\n",
    "def get_student1():\n",
    "    name = input(\"Name: \")\n",
    "    house = input(\"House: \")\n",
    "    return (name, house)\n",
    "\n",
    "# List return\n",
    "def get_student1():\n",
    "    name = input(\"Name: \")\n",
    "    house = input(\"House: \")\n",
    "    return (name, house)\n",
    "\n",
    "# Dict return\n",
    "def get_student():\n",
    "    student = {}\n",
    "    student[0] = input(\"Name: \")\n",
    "    student[1] = input(\"House: \")\n",
    "    return student\n",
    "\n",
    "\n",
    "def main():\n",
    "    name = get_name()\n",
    "    house = get_house()\n",
    "    print(f\"{name} from {house}\")\n",
    "    \n",
    "    \"\"\" Seperate return \"\"\"\n",
    "    # name, house = get_student()\n",
    "    # print(f\"{name} from {house}\")\n",
    "    \n",
    "    \"\"\" Tuple return \n",
    "        Tuple is a immutable data type, it will throw a type error if student[0] = other_name\n",
    "        Tuple is like a constrvative listm, it can be also nested.\n",
    "    \"\"\"\n",
    "    # student = get_student()\n",
    "    # print(f\"{student[0]} from {student[1]}\")\n",
    "    \n",
    "    \"\"\" List return\n",
    "        List is a mutable data type \n",
    "    \"\"\"\n",
    "    # student = get_student()\n",
    "    # print(f\"{student[0]=other_name} from {student[1]}\")\n",
    "    \n",
    "    \"\"\" Dict return \n",
    "        Dict is a mutable date type\n",
    "    \"\"\"\n",
    "    # student = get_student()\n",
    "    # print(f\"{student['name']} from {student['house']}\") # be careful with mix of '' and \" \"\n",
    "    \n",
    "if __name__ == \"__main__\":\n",
    "    main()"
   ]
  },
  {
   "cell_type": "markdown",
   "metadata": {},
   "source": [
    "## classes and objects"
   ]
  },
  {
   "cell_type": "markdown",
   "metadata": {},
   "source": [
    "### instance variable"
   ]
  },
  {
   "cell_type": "code",
   "execution_count": null,
   "metadata": {},
   "outputs": [],
   "source": [
    "class Student: # a blue map\n",
    "    pass # function and student can use 'pass' or '...'\n",
    "\n",
    "# first instance and then pass values\n",
    "def get_student():\n",
    "    student = Student() # create an object from class\n",
    "    student.name = input(\"Name: \") # instance variable\n",
    "    student.house = input(\"House: \") # instance variable\n",
    "    return student\n",
    "\n",
    "def main():\n",
    "    student = get_student()\n",
    "    print(f\"{student.name} from {student.house}\")\n",
    "    \n",
    "if __name__ == \"__main__\":\n",
    "    main()"
   ]
  },
  {
   "cell_type": "markdown",
   "metadata": {},
   "source": [
    "### instance method"
   ]
  },
  {
   "cell_type": "code",
   "execution_count": 2,
   "metadata": {},
   "outputs": [
    {
     "name": "stdout",
     "output_type": "stream",
     "text": [
      "Junhao from WT\n"
     ]
    }
   ],
   "source": [
    "class Student: \n",
    "    def __init__(self, name, house): # instance method\n",
    "        self.name = name\n",
    "        self.house = house\n",
    "\n",
    "# first pass values and then instance\n",
    "def get_student():\n",
    "    name = input(\"Name: \") # instance variable\n",
    "    house = input(\"House: \") # instance variable\n",
    "    student = Student(name, house) # create an object from class\n",
    "    return student\n",
    "\n",
    "def main():\n",
    "    student = get_student()\n",
    "    print(f\"{student.name} from {student.house}\")\n",
    "\n",
    "if __name__ == \"__main__\":\n",
    "    main()"
   ]
  }
 ],
 "metadata": {
  "kernelspec": {
   "display_name": "Python 3",
   "language": "python",
   "name": "python3"
  },
  "language_info": {
   "codemirror_mode": {
    "name": "ipython",
    "version": 3
   },
   "file_extension": ".py",
   "mimetype": "text/x-python",
   "name": "python",
   "nbconvert_exporter": "python",
   "pygments_lexer": "ipython3",
   "version": "3.8.10"
  }
 },
 "nbformat": 4,
 "nbformat_minor": 2
}
