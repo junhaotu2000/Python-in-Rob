{
 "cells": [
  {
   "cell_type": "markdown",
   "metadata": {},
   "source": [
    "# Object-Oriented Programming (OOP) "
   ]
  },
  {
   "cell_type": "markdown",
   "metadata": {},
   "source": [
    "## Tuple, List and Dict"
   ]
  },
  {
   "cell_type": "code",
   "execution_count": null,
   "metadata": {},
   "outputs": [],
   "source": [
    "# Basic method\n",
    "def get_name():\n",
    "    return input(\"Name: \")\n",
    "\n",
    "def get_house():\n",
    "    return input(\"House: \")\n",
    "\n",
    "# Seperate return\n",
    "def get_student():\n",
    "    name = input(\"Name: \")\n",
    "    house = input(\"House: \")\n",
    "    return name, house\n",
    "\n",
    "# Tuple return - this type of return will restrict it is changed by other code\n",
    "def get_student1():\n",
    "    name = input(\"Name: \")\n",
    "    house = input(\"House: \")\n",
    "    return (name, house)\n",
    "\n",
    "# List return\n",
    "def get_student1():\n",
    "    name = input(\"Name: \")\n",
    "    house = input(\"House: \")\n",
    "    return (name, house)\n",
    "\n",
    "# Dict return\n",
    "def get_student():\n",
    "    student = {}\n",
    "    student[0] = input(\"Name: \")\n",
    "    student[1] = input(\"House: \")\n",
    "    return student\n",
    "\n",
    "\n",
    "def main():\n",
    "    name = get_name()\n",
    "    house = get_house()\n",
    "    print(f\"{name} from {house}\")\n",
    "    \n",
    "    \"\"\" Seperate return \"\"\"\n",
    "    # name, house = get_student()\n",
    "    # print(f\"{name} from {house}\")\n",
    "    \n",
    "    \"\"\" Tuple return \n",
    "        Tuple is a immutable data type, it will throw a type error if student[0] = other_name\n",
    "        Tuple is like a constrvative listm, it can be also nested.\n",
    "    \"\"\"\n",
    "    # student = get_student()\n",
    "    # print(f\"{student[0]} from {student[1]}\")\n",
    "    \n",
    "    \"\"\" List return\n",
    "        List is a mutable data type \n",
    "    \"\"\"\n",
    "    # student = get_student()\n",
    "    # print(f\"{student[0]=other_name} from {student[1]}\")\n",
    "    \n",
    "    \"\"\" Dict return \n",
    "        Dict is a mutable date type\n",
    "    \"\"\"\n",
    "    # student = get_student()\n",
    "    # print(f\"{student['name']} from {student['house']}\") # be careful with mix of '' and \" \"\n",
    "    \n",
    "if __name__ == \"__main__\":\n",
    "    main()"
   ]
  },
  {
   "cell_type": "markdown",
   "metadata": {},
   "source": [
    "## classes and objects"
   ]
  },
  {
   "cell_type": "markdown",
   "metadata": {},
   "source": [
    "### instance variable"
   ]
  },
  {
   "cell_type": "code",
   "execution_count": null,
   "metadata": {},
   "outputs": [],
   "source": [
    "class Student: # a blue map / template, it is a convention to capitialize first character\n",
    "    pass # function and student can use 'pass' or '...'\n",
    "\n",
    "# first instance and then pass values\n",
    "def get_student():\n",
    "    student = Student() # create an object from class\n",
    "    student.name = input(\"Name: \") # instance variable\n",
    "    student.house = input(\"House: \") # instance variable\n",
    "    return student\n",
    "\n",
    "def main():\n",
    "    student = get_student()\n",
    "    print(f\"{student.name} from {student.house}\")\n",
    "    \n",
    "if __name__ == \"__main__\":\n",
    "    main()"
   ]
  },
  {
   "cell_type": "markdown",
   "metadata": {},
   "source": [
    "### instance method"
   ]
  },
  {
   "cell_type": "code",
   "execution_count": null,
   "metadata": {},
   "outputs": [],
   "source": [
    "class Student: \n",
    "    # __init__ function will be called automatically at class\n",
    "    # def __init__(self, name, house = None) - set house as a optional value\n",
    "    def __init__(self, name, house, patronus): # instance method\n",
    "        if not name:\n",
    "            raise ValueError(\"Missing Name\") # raise a specific error\n",
    "        if house not in [\"Gryffindor\", \"Hullepuff\", \"Ravenclaw\", \"Slytherin\"]: # check if the address in the list\n",
    "            raise ValueError(\"Invalid house\")\n",
    "        self.name = name\n",
    "        self.house = house\n",
    "        self.patronus = patronus\n",
    "    \n",
    "    \"\"\" __str__ have priority over __repr__ \"\"\"\n",
    "    # define how an object is represented as a string in user side: 这个方法通常返回对用户友好的表示\n",
    "    def __str__(self):  \n",
    "        return f\"{self.name} from {self.house}\"\n",
    "    \n",
    "    # define how an object is represented as a string in developer side: 在调试和开发中使用\n",
    "    def __repr__(self) -> str: # -> type hint for clear purpose, it will not throw a error if it is wrong\n",
    "                               # there is a explicte type check library, mypy\n",
    "        pass\n",
    "    \n",
    "    # custom method: at least one input - self to access internal argument\n",
    "    # 'self' 在Python中用于指代类的当前实例\n",
    "    # 在Python类中定义的自定义方法（例如 func）完全可以接受除 self 之外的其他参数。\n",
    "    # self 参数是类方法的传统第一个参数，代表类的实例本身。任何在 self 之后定义的参数都可以用来接收从方法调用中传入的额外数据。\n",
    "    def charm(self):\n",
    "        match self.patronus:\n",
    "            case \"stage\":\n",
    "                return \"s\"\n",
    "            case \"Otter\":\n",
    "                return \"O\"\n",
    "            case \"Jack\":\n",
    "                return \"J\"\n",
    "            case _:\n",
    "                return \"?\"\n",
    "            \n",
    "            \n",
    "# first pass values and then instance\n",
    "def get_student():\n",
    "    name = input(\"Name: \") # instance variable\n",
    "    house = input(\"House: \") # instance variable\n",
    "    patronus = input(\"Patronus: \")\n",
    "    student = Student(name, house, patronus) # create an object from class\n",
    "    return student\n",
    "\n",
    "def main():\n",
    "    student = get_student() # student = <__main__.Student object at 0*102733e80>: computer memory location\n",
    "    print(f\"{student.name} from {student.house}\")\n",
    "    print(\"Expecto Patronum!\")\n",
    "    print(student.charm())\n",
    "\n",
    "if __name__ == \"__main__\":\n",
    "    main()"
   ]
  },
  {
   "cell_type": "markdown",
   "metadata": {},
   "source": [
    "### Properties, Getters and Setters"
   ]
  },
  {
   "cell_type": "code",
   "execution_count": null,
   "metadata": {},
   "outputs": [],
   "source": [
    "class Student: \n",
    "    def __init__(self, name, house): \n",
    "        if not name:\n",
    "            raise ValueError(\"Missing Name\")\n",
    "        \"\"\"  \n",
    "        <-the assignment at main() would automatically call setter->\n",
    "        if house not in [\"Gryffindor\", \"Hullepuff\", \"Ravenclaw\", \"Slytherin\"]:\n",
    "            raise ValueError(\"Invalid house\")\n",
    "        \"\"\"\n",
    "        self.name = name\n",
    "        self.house = house # this will call setter method \n",
    "    \n",
    "    def __str__(self):  \n",
    "        return f\"{self.name} from {self.house}\"\n",
    "    \n",
    "    # Getter\n",
    "    @property # decorator\n",
    "    def house(self):\n",
    "        return self._house\n",
    "    \n",
    "    # Setter - it will be called at anytime the .house is called (keep all error checking in a setter)\n",
    "    # create a object or change a attribute from outside\n",
    "    @house.setter # decorator\n",
    "    def house(self, house):\n",
    "        if house not in [\"Gryffindor\", \"Hullepuff\", \"Ravenclaw\", \"Slytherin\"]:\n",
    "            raise ValueError(\"Invalid house\")\n",
    "        self._house = house\n",
    "        \n",
    "def get_student():\n",
    "    name = input(\"Name: \")\n",
    "    house = input(\"House: \") \n",
    "    student = Student(name, house)\n",
    "    return student\n",
    "\n",
    "def main():\n",
    "    student = get_student()\n",
    "    # before assign value into class, this is a setter to check input \n",
    "    student.house = \"Number Four, Privet Drive\" # this call setter method\n",
    "    \n",
    "    print(student)"
   ]
  },
  {
   "cell_type": "markdown",
   "metadata": {},
   "source": [
    "在这段代码中，使用 property 和 setter 为 Student 对象的 house 属性提供了一种受控的访问和修改方式，确保只有有效的数据被赋值。这是面向对象编程中封装的一个关键方面，允许对类属性进行数据验证和受控访问。使用 _house 是一种遵循 Python 编程惯例的做法，旨在实现封装，避免命名冲突，并表明这个属性是私有的，不应该被类外部直接访问或修改。"
   ]
  },
  {
   "cell_type": "code",
   "execution_count": null,
   "metadata": {},
   "outputs": [],
   "source": [
    "class Student: \n",
    "    def __init__(self, name, house): \n",
    "        self.name = name\n",
    "        self.house = house  # automatically call setter\n",
    "    \n",
    "    def __str__(self):  \n",
    "        return f\"{self.name} from {self.house}\"\n",
    "    \n",
    "    @property\n",
    "    def name(self):\n",
    "        return self._name\n",
    "        \n",
    "    @name.setter\n",
    "    def name(self, name):\n",
    "        if not name:\n",
    "            raise ValueError(\"Missing Name\")\n",
    "        self._name = name\n",
    "    \n",
    "    @property \n",
    "    def house(self):\n",
    "        return self._house # 这是一种封装属性的方式，提供对它的受控访问\n",
    "    \n",
    "    @house.setter \n",
    "    def house(self, house):\n",
    "        if house not in [\"Gryffindor\", \"Hullepuff\", \"Ravenclaw\", \"Slytherin\"]:\n",
    "            raise ValueError(\"Invalid house\")\n",
    "        self._house = house\n",
    "\n",
    "def get_student():\n",
    "    name = input(\"Name: \")\n",
    "    house = input(\"House: \") \n",
    "    student = Student(name, house)\n",
    "    return student\n",
    "\n",
    "def main():\n",
    "    student = get_student()\n",
    "    student.house = \"Number Four, Privet Drive\"  # automatically call setter\n",
    "    \n",
    "    # less protected (_instanceVariable) and private (__instanceVariable)\n",
    "    # student._house = \"Number Four, Privet Drive\" - this will break the class \n",
    "    \n",
    "    print(student)"
   ]
  },
  {
   "cell_type": "markdown",
   "metadata": {},
   "source": [
    "### Types and Classes"
   ]
  },
  {
   "cell_type": "markdown",
   "metadata": {},
   "source": [
    "- int - class int(x, base = 10)\n",
    "- str - class str(object = '') \n",
    "    \n",
    "    str.lower() call a method in the str class\n",
    "    \n",
    "    str,strip([chars]) call another method in the str class \n",
    "\n",
    "- list - class list ([iterable])\n",
    "\n",
    "    list.append() call a methid in the list class\n",
    "\n",
    "- dict - class dict"
   ]
  },
  {
   "cell_type": "code",
   "execution_count": null,
   "metadata": {},
   "outputs": [],
   "source": [
    "# many built in type are actually class\n",
    "\n",
    "print(type(50)) # <class 'int'>\n",
    "\n",
    "print(type([])) # <class 'list'>\n",
    "\n",
    "print(type(dict())) # <class 'dict'>\n",
    "\n",
    "import torch\n",
    "# <class 'torch.Tensor'>\n",
    "x = torch.randn(2,2,device='cuda') \n",
    "print(type(x))"
   ]
  },
  {
   "cell_type": "markdown",
   "metadata": {},
   "source": [
    "### class methods (the methods in class)"
   ]
  },
  {
   "cell_type": "markdown",
   "metadata": {},
   "source": [
    "**Tricks:** \n",
    "-  '...' to undefine a class, 'pass' to undefine a function\n",
    "-  when to define a real world entity or a group of something, it is a time to use class"
   ]
  },
  {
   "cell_type": "code",
   "execution_count": null,
   "metadata": {},
   "outputs": [],
   "source": [
    "import random\n",
    "\n",
    "class Hat:\n",
    "    def __init__(self):\n",
    "        self.houses = [\"Gryffindor\", \"Hullepuff\", \"Ravenclaw\", \"Slytherin\"]       \n",
    "        \n",
    "    def sort(self, name):\n",
    "        print(name, \"is in\", random.choice(self.houses)) # random.choice can get a random choice from a list\n",
    "        \n",
    "def main():\n",
    "    hat = Hat()\n",
    "    hat.sort(\"Harry\")\n",
    "    \n",
    "if __name__ == \"__main__\":\n",
    "    main()"
   ]
  },
  {
   "cell_type": "markdown",
   "metadata": {},
   "source": [
    "@classmethod 是一个 Python 的装饰器，它用于标记一个方法为类方法。这种方法的特点是，它接受类本身作为第一个参数，而不是类的实例。这个参数通常被命名为 cls。"
   ]
  },
  {
   "cell_type": "code",
   "execution_count": null,
   "metadata": {},
   "outputs": [],
   "source": [
    "import random\n",
    "\n",
    "class Hat:\n",
    "    \n",
    "    houses = [\"Gryffindor\", \"Hullepuff\", \"Ravenclaw\", \"Slytherin\"] # class varibale: general variable, instance variable: specific variable  \n",
    "    \n",
    "    @classmethod\n",
    "    def sort(cls, name):\n",
    "        print(name, \"is in\", random.choice(cls.houses)) # random.choice can get a random choice from a list\n",
    "        \n",
    "def main():\n",
    "    Hat.sort(\"Harry\")\n",
    "    \n",
    "if __name__ == \"__main__\":\n",
    "    main()"
   ]
  }
 ],
 "metadata": {
  "kernelspec": {
   "display_name": "Python 3",
   "language": "python",
   "name": "python3"
  },
  "language_info": {
   "codemirror_mode": {
    "name": "ipython",
    "version": 3
   },
   "file_extension": ".py",
   "mimetype": "text/x-python",
   "name": "python",
   "nbconvert_exporter": "python",
   "pygments_lexer": "ipython3",
   "version": "3.8.10"
  }
 },
 "nbformat": 4,
 "nbformat_minor": 2
}
