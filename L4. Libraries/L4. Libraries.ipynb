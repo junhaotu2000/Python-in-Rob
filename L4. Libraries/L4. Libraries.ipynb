{
 "cells": [
  {
   "cell_type": "markdown",
   "metadata": {},
   "source": [
    "**Random Lib**"
   ]
  },
  {
   "cell_type": "code",
   "execution_count": null,
   "metadata": {},
   "outputs": [],
   "source": [
    "import random # import all lib\n",
    "\n",
    "coin = random.choice([\"heads\", \"tails\"])\n",
    "print(coin)"
   ]
  },
  {
   "cell_type": "markdown",
   "metadata": {},
   "source": [
    "Sometimes, the same variable or function name can be reused in different scopes \n",
    "(like within different functions in the same file, or in different files) without conflict. \n",
    "However, care should be taken when using the same name in the global scope of a single file."
   ]
  },
  {
   "cell_type": "code",
   "execution_count": null,
   "metadata": {},
   "outputs": [],
   "source": [
    "from random import choice # import specific module\n",
    "\n",
    "coin = choice([\"heads\", \"tails\"])\n",
    "print(coin)"
   ]
  },
  {
   "cell_type": "code",
   "execution_count": null,
   "metadata": {},
   "outputs": [],
   "source": [
    "import random \n",
    "\n",
    "# random.randint to return num in the range of 1 and 10 with equal problility\n",
    "number = random.randint(1, 10)\n",
    "print(number)\n",
    "\n",
    "# random.shuffle to permute a list\n",
    "cards = [\"jack\", \"queen\", \"king\"]\n",
    "random.shuffle(cards)\n",
    "\n",
    "for card in cards:\n",
    "    print(card)"
   ]
  },
  {
   "cell_type": "markdown",
   "metadata": {},
   "source": [
    "**Statistics Lib**"
   ]
  },
  {
   "cell_type": "code",
   "execution_count": null,
   "metadata": {},
   "outputs": [],
   "source": [
    "import statistics\n",
    "\n",
    "print(statistics.mean([100, 90, 112]))"
   ]
  },
  {
   "cell_type": "markdown",
   "metadata": {},
   "source": [
    "**Sys Lib**"
   ]
  },
  {
   "cell_type": "code",
   "execution_count": null,
   "metadata": {},
   "outputs": [],
   "source": [
    "import sys\n",
    "\n",
    "# sys.argv return the vector of input of user \n",
    "# ex: python name.py Aaron TU / name.py - argv[0], Aaron - argv[1], TU - argv[2]\n",
    "print(\"hello, my name is\", sys.argv[1])\n",
    "\n",
    "# a proper way to require input formate        \n",
    "if len(sys.argv) < 2:\n",
    "    print(\"Too few arguments, please input one argument!\")\n",
    "elif len(sys.argv) > 2:\n",
    "    print(\"Too many arguments, , please input one argument!\")\n",
    "else:\n",
    "    print(\"hello, my name is\", sys.argv[1])\n",
    "    # python name.py David   \n",
    "    # python name.py \"David Malan\" - python will take \"David Malan\" as single input "
   ]
  },
  {
   "cell_type": "code",
   "execution_count": null,
   "metadata": {},
   "outputs": [],
   "source": [
    "# Check for errors - with NameError\n",
    "if len(sys.argv) < 2:\n",
    "    print(\"Too few arguments, please input one argument!\")\n",
    "elif len(sys.argv) > 2:\n",
    "    print(\"Too many arguments, please input only argument!\")\n",
    "\n",
    "# Print name tags\n",
    "print(\"My name is \", sys.argv[1])"
   ]
  },
  {
   "cell_type": "code",
   "execution_count": null,
   "metadata": {},
   "outputs": [],
   "source": [
    "# Check for errors - without NameError\n",
    "if len(sys.argv) < 2:\n",
    "    sys.exit(\"Too few arguments\")  # exit the program to avoid NameError\n",
    "elif len(sys.argv) > 2:\n",
    "    sys.exit(\"Too many arguments, please input only argument!\") # exit the program to avoid NameError\n",
    "\n",
    "# Print name tags\n",
    "print(\"My name is \", sys.argv[1])\n"
   ]
  },
  {
   "cell_type": "code",
   "execution_count": null,
   "metadata": {},
   "outputs": [],
   "source": [
    "# Check for errors - without NameError\n",
    "if len(sys.argv) < 2:\n",
    "    sys.exit(\"Too few arguments\")  # exit the program to avoid NameError\n",
    "\n",
    "# First way to ignore the first element \n",
    "for name in sys.argv:\n",
    "    if name != sys.argv[0]:\n",
    "        print(\"hello, my name is\", name)\n",
    "\n",
    "# Second way to ignore the first element\n",
    "for name in sys.argv[1:]: # Slice to start from expected indics\n",
    "    print(\"hello, my name is\", name)"
   ]
  },
  {
   "cell_type": "markdown",
   "metadata": {},
   "source": [
    "**Third part lib**"
   ]
  },
  {
   "cell_type": "markdown",
   "metadata": {},
   "source": [
    "PyPi[https://pypi.org/] to manage the third part lib"
   ]
  },
  {
   "cell_type": "code",
   "execution_count": null,
   "metadata": {},
   "outputs": [],
   "source": [
    "# pip install cowsay\n",
    "\n",
    "import cowsay\n",
    "import sys\n",
    "\n",
    "if len(sys.argv) == 2:\n",
    "    # cow say\n",
    "    cowsay.cow(\"hello, \" + sys.argv[1])\n",
    "    # dinosaur\n",
    "    cowsay.trex(\"hello, \" + sys.argv[1])"
   ]
  },
  {
   "cell_type": "markdown",
   "metadata": {},
   "source": [
    "Create own lib for other file access"
   ]
  },
  {
   "cell_type": "code",
   "execution_count": null,
   "metadata": {},
   "outputs": [],
   "source": [
    "def hello(name):\n",
    "    print(f\"hello, {name}\")\n",
    "\n",
    "def goodbye(name):\n",
    "    print(f\"goodbye, {name}\")\n",
    "    \n",
    "def main():\n",
    "    hello(\"world\")\n",
    "    goodbye(\"world\")\n",
    "\n",
    "if __name__ == \"__main__\": # test unit\n",
    "    main()"
   ]
  },
  {
   "cell_type": "markdown",
   "metadata": {},
   "source": [
    "**APIs** (Application Programing Interface)\n",
    "\n",
    "**JSON** (Java Script Object Notation)"
   ]
  },
  {
   "cell_type": "code",
   "execution_count": null,
   "metadata": {},
   "outputs": [],
   "source": [
    "import requests\n",
    "import sys\n",
    "import json\n",
    "\n",
    "if len(sys.argv) != 2:\n",
    "    sys.exit()\n",
    "    \n",
    "response = requests.get(\"https://itunes.apple.com/search?entity=song\\&limit=1\\&term\" + sys.argv[1])\n",
    "# raw json file\n",
    "print(response.json()) \n",
    "# json is too mess to understand, use json lib to format output\n",
    "print(json.dumps(response.json(), indent = 2))"
   ]
  },
  {
   "cell_type": "code",
   "execution_count": null,
   "metadata": {},
   "outputs": [],
   "source": [
    "# .json:\n",
    "{\n",
    "  \"errorMessage\": \"Invalid value(s) for key(s): [resultEntity]\",\n",
    "  \"queryParameters\": { # it is total accptable to  get include dict inside dict (nested dict)\n",
    "    \"output\": \"json\", \n",
    "    \"callback\": \"A javascript function to handle your search results\",\n",
    "    \"country\": \"ISO-2A country code\",\n",
    "    \"limit\": \"The number of search results to return\",\n",
    "    \"term\": \"A search string\",\n",
    "    \"lang\": \"ISO-2A language code\"\n",
    "  }\n",
    "}"
   ]
  },
  {
   "cell_type": "code",
   "execution_count": null,
   "metadata": {},
   "outputs": [],
   "source": [
    "# Get specific output that we need \n",
    "o = response.json()\n",
    "for result in o[\"results\"]: # loop through all \"results\" list \n",
    "    print(result[\"trackName\"]) # use key to access wanted variable "
   ]
  }
 ],
 "metadata": {
  "kernelspec": {
   "display_name": "base",
   "language": "python",
   "name": "python3"
  },
  "language_info": {
   "codemirror_mode": {
    "name": "ipython",
    "version": 3
   },
   "file_extension": ".py",
   "mimetype": "text/x-python",
   "name": "python",
   "nbconvert_exporter": "python",
   "pygments_lexer": "ipython3",
   "version": "3.11.4"
  }
 },
 "nbformat": 4,
 "nbformat_minor": 2
}
