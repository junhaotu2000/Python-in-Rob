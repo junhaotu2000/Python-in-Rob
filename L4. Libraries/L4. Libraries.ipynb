{
 "cells": [
  {
   "cell_type": "markdown",
   "metadata": {},
   "source": [
    "**Random Lib**"
   ]
  },
  {
   "cell_type": "code",
   "execution_count": null,
   "metadata": {},
   "outputs": [],
   "source": [
    "import random # import all lib\n",
    "\n",
    "coin = random.choice([\"heads\", \"tails\"])\n",
    "print(coin)"
   ]
  },
  {
   "cell_type": "markdown",
   "metadata": {},
   "source": [
    "Sometimes, the same variable or function name can be reused in different scopes \n",
    "(like within different functions in the same file, or in different files) without conflict. \n",
    "However, care should be taken when using the same name in the global scope of a single file."
   ]
  },
  {
   "cell_type": "code",
   "execution_count": null,
   "metadata": {},
   "outputs": [],
   "source": [
    "from random import choice # import specific module\n",
    "\n",
    "coin = choice([\"heads\", \"tails\"])\n",
    "print(coin)"
   ]
  },
  {
   "cell_type": "code",
   "execution_count": null,
   "metadata": {},
   "outputs": [],
   "source": [
    "import random \n",
    "\n",
    "# random.randint to return num in the range of 1 and 10 with equal problility\n",
    "number = random.randint(1, 10)\n",
    "print(number)\n",
    "\n",
    "# random.shuffle to permute a list\n",
    "cards = [\"jack\", \"queen\", \"king\"]\n",
    "random.shuffle(cards)\n",
    "\n",
    "for card in cards:\n",
    "    print(card)"
   ]
  },
  {
   "cell_type": "markdown",
   "metadata": {},
   "source": [
    "**Statistics Lib**"
   ]
  },
  {
   "cell_type": "code",
   "execution_count": null,
   "metadata": {},
   "outputs": [],
   "source": [
    "import statistics\n",
    "\n",
    "print(statistics.mean([100, 90, 112]))"
   ]
  },
  {
   "cell_type": "markdown",
   "metadata": {},
   "source": [
    "**Sys Lib**"
   ]
  },
  {
   "cell_type": "code",
   "execution_count": null,
   "metadata": {},
   "outputs": [],
   "source": [
    "import sys\n",
    "\n",
    "# sys.argv return the vector of input of user \n",
    "# ex: python name.py Aaron TU / name.py - argv[0], Aaron - argv[1], TU - argv[2]\n",
    "print(\"hello, my name is\", sys.argv[1])\n",
    "\n",
    "# a proper way to require input formate        \n",
    "if len(sys.argv) < 2:\n",
    "    print(\"Too few arguments, please input one argument!\")\n",
    "elif len(sys.argv) > 2:\n",
    "    print(\"Too many arguments, , please input one argument!\")\n",
    "else:\n",
    "    print(\"hello, my name is\", sys.argv[1])\n",
    "    # python name.py David   \n",
    "    # python name.py \"David Malan\" - python will take \"David Malan\" as single input "
   ]
  },
  {
   "cell_type": "code",
   "execution_count": null,
   "metadata": {},
   "outputs": [],
   "source": [
    "# Check for errors - with NameError\n",
    "if len(sys.argv) < 2:\n",
    "    print(\"Too few arguments, please input one argument!\")\n",
    "elif len(sys.argv) > 2:\n",
    "    print(\"Too many arguments, please input only argument!\")\n",
    "\n",
    "# Print name tags\n",
    "print(\"My name is \", sys.argv[1])"
   ]
  },
  {
   "cell_type": "code",
   "execution_count": null,
   "metadata": {},
   "outputs": [],
   "source": [
    "# Check for errors - without NameError\n",
    "if len(sys.argv) < 2:\n",
    "    sys.exit(\"Too few arguments\")  # exit the program to avoid NameError\n",
    "elif len(sys.argv) > 2:\n",
    "    sys.exit(\"Too many arguments, please input only argument!\") # exit the program to avoid NameError\n",
    "\n",
    "# Print name tags\n",
    "print(\"My name is \", sys.argv[1])\n"
   ]
  },
  {
   "cell_type": "code",
   "execution_count": null,
   "metadata": {},
   "outputs": [],
   "source": [
    "# Check for errors - without NameError\n",
    "if len(sys.argv) < 2:\n",
    "    sys.exit(\"Too few arguments\")  # exit the program to avoid NameError\n",
    "\n",
    "# First way to ignore the first element \n",
    "for name in sys.argv:\n",
    "    if name != sys.argv[0]:\n",
    "        print(\"hello, my name is\", name)\n",
    "\n",
    "# Second way to ignore the first element\n",
    "for name in sys.argv[1:]: # Slice to start from expected indics\n",
    "    print(\"hello, my name is\", name)"
   ]
  },
  {
   "cell_type": "markdown",
   "metadata": {},
   "source": [
    "**Third part lib**"
   ]
  },
  {
   "cell_type": "markdown",
   "metadata": {},
   "source": [
    "PyPi[https://pypi.org/] to manage the third part lib"
   ]
  },
  {
   "cell_type": "code",
   "execution_count": null,
   "metadata": {},
   "outputs": [],
   "source": [
    "# pip install cowsay\n",
    "\n",
    "import cowsay\n",
    "import sys\n",
    "\n",
    "if len(sys.argv) == 2:\n",
    "    # cow say\n",
    "    cowsay.cow(\"hello, \" + sys.argv[1])\n",
    "    # dinosaur\n",
    "    cowsay.trex(\"hello, \" + sys.argv[1])"
   ]
  },
  {
   "cell_type": "markdown",
   "metadata": {},
   "source": [
    "Create own lib for other file access"
   ]
  },
  {
   "cell_type": "code",
   "execution_count": null,
   "metadata": {},
   "outputs": [],
   "source": [
    "def hello(name):\n",
    "    print(f\"hello, {name}\")\n",
    "\n",
    "def goodbye(name):\n",
    "    print(f\"goodbye, {name}\")\n",
    "    \n",
    "def main():\n",
    "    hello(\"world\")\n",
    "    goodbye(\"world\")\n",
    "\n",
    "if __name__ == \"__main__\": # test unit\n",
    "    main()"
   ]
  },
  {
   "cell_type": "markdown",
   "metadata": {},
   "source": [
    "**APIs** (Application Programing Interface)\n",
    "\n",
    "**JSON** (Java Script Object Notation)"
   ]
  },
  {
   "cell_type": "code",
   "execution_count": null,
   "metadata": {},
   "outputs": [],
   "source": [
    "import requests\n",
    "import sys\n",
    "import json\n",
    "\n",
    "if len(sys.argv) != 2:\n",
    "    sys.exit()\n",
    "    \n",
    "response = requests.get(\"https://itunes.apple.com/search?entity=song\\&limit=1\\&term\" + sys.argv[1])\n",
    "# raw json file\n",
    "print(response.json()) \n",
    "# json is too mess to understand, use json lib to format output\n",
    "print(json.dumps(response.json(), indent = 2))"
   ]
  },
  {
   "cell_type": "code",
   "execution_count": null,
   "metadata": {},
   "outputs": [],
   "source": [
    "# .json:\n",
    "{\n",
    "  \"errorMessage\": \"Invalid value(s) for key(s): [resultEntity]\",\n",
    "  \"queryParameters\": { # it is total accptable to  get include dict inside dict (nested dict)\n",
    "    \"output\": \"json\", \n",
    "    \"callback\": \"A javascript function to handle your search results\",\n",
    "    \"country\": \"ISO-2A country code\",\n",
    "    \"limit\": \"The number of search results to return\",\n",
    "    \"term\": \"A search string\",\n",
    "    \"lang\": \"ISO-2A language code\"\n",
    "  }\n",
    "}"
   ]
  },
  {
   "cell_type": "code",
   "execution_count": null,
   "metadata": {},
   "outputs": [],
   "source": [
    "# Get specific output that we need \n",
    "o = response.json()\n",
    "for result in o[\"results\"]: # loop through all \"results\" list \n",
    "    print(result[\"trackName\"]) # use key to access wanted variable "
   ]
  },
  {
   "cell_type": "markdown",
   "metadata": {},
   "source": [
    "## Python env management"
   ]
  },
  {
   "cell_type": "markdown",
   "metadata": {},
   "source": [
    "To a large project, it is neccessary to set up a independent environment and this is commanly achieved by conda or pip. conda 和 pip 是两种不同的包管理和环境管理工具，它们在记录和复现环境方面有一些显著的区别，主要体现在使用的文件（environment.yml 对于 conda 和 requirements.txt 对于 pip）以及这些文件记录的内容上。conda有严格的检查机制，它会保证你当前装的package安装好之后能work，但是，它只检查用conda安装过的package。例如，你新安装的package会依赖numpy ，不过你已经安装numpy(e.g., 1.19.2)，但是用pip安装的，不好意思，它会认为你没安装，然后用conda再安装一个依赖版本的numpy(e.g., 1.18.5)。这个时候，两个numpy可能就打架了。并且你pip list与conda list显示的numpy版本可能不一致，结果不知道最后运行程序的时候调用了哪个版本的numpy。pip的一个好处是可以安装时既检查conda安装过package的也检查pip安装过的package。不过，它只负责要什么装什么，不负责能不能把装的一堆packages打通，可能装好不work. 一般原则，在新环境中，如果装多个packages，既用到conda，又用到pip，那就先conda 的都装好，再pip，如果能用一种装到底，就不要来回换着用。 "
   ]
  },
  {
   "cell_type": "code",
   "execution_count": null,
   "metadata": {
    "vscode": {
     "languageId": "shellscript"
    }
   },
   "outputs": [],
   "source": [
    "# original python3 environment configuration\n",
    "❯ python3 -m site      \n",
    "sys.path = [\n",
    "    '/home/aaron',\n",
    "    '/usr/lib/python38.zip',\n",
    "    '/usr/lib/python3.8',\n",
    "    '/usr/lib/python3.8/lib-dynload',\n",
    "    '/home/aaron/.local/lib/python3.8/site-packages',\n",
    "    '/usr/local/lib/python3.8/dist-packages',\n",
    "    '/usr/lib/python3/dist-packages',\n",
    "]\n",
    "USER_BASE: '/home/aaron/.local' (exists)\n",
    "USER_SITE: '/home/aaron/.local/lib/python3.8/site-packages' (exists)\n",
    "ENABLE_USER_SITE: True\n",
    "# 这种配置对于 Python 环境来说是典型的，其中一些包在系统范围内安装（在 /usr/local/lib 和 /usr/lib 中），\n",
    "# 而其他包则由用户安装（在 .local 目录中）。这允许混合全局可访问的包和用户特定的包。\n",
    "\n",
    "# miniconda environment configuration\n",
    "❯ conda activate base\n",
    "❯ python3 -m site    \n",
    "sys.path = [\n",
    "    '/home/aaron',\n",
    "    '/home/aaron/miniconda3/lib/python311.zip',\n",
    "    '/home/aaron/miniconda3/lib/python3.11',\n",
    "    '/home/aaron/miniconda3/lib/python3.11/lib-dynload',\n",
    "    '/home/aaron/miniconda3/lib/python3.11/site-packages',\n",
    "]\n",
    "USER_BASE: '/home/aaron/.local' (exists)\n",
    "USER_SITE: '/home/aaron/.local/lib/python3.11/site-packages' (doesn't exist) # 目前用户并未安装pkgs\n",
    "ENABLE_USER_SITE: True"
   ]
  },
  {
   "cell_type": "markdown",
   "metadata": {},
   "source": [
    "Conda（environment.yml）\n",
    "\n",
    "- 环境配置文件：Conda 使用 environment.yml 文件来记录环境的配置。\n",
    "\n",
    "- 内容：environment.yml 文件包含环境的名称、要安装的包及其版本，还可以包括其他信息，如通道（channels）和Python版本。它可以处理Python包和非Python依赖。\n",
    "\n",
    "- 创建 environment.yml：可以通过 conda env export > environment.yml 命令导出当前环境的配置。\n",
    "\n",
    "- 复现环境：可以使用 conda env create -n new_env -f environment.yml 命令根据 environment.yml 文件创建一个新的环境，这将复制文件中指定的所有包和版本。\n",
    "\n",
    "Pip（requirements.txt）\n",
    "\n",
    "- 环境配置文件：Pip 使用 requirements.txt 文件来记录环境的配置。\n",
    "\n",
    "- 内容：requirements.txt 文件通常只包含Python包的名称和版本。它不包括Python本身的版本，也不处理非Python依赖。\n",
    "\n",
    "- 创建 requirements.txt：可以通过 pip freeze > requirements.txt 命令生成当前环境中所有安装的Python包的列表。\n",
    "\n",
    "- 创建项目设置：pipreqs 命令生成当前项目中所有安装的Python包的列表。(需要手动解决多版本问题)\n",
    "\n",
    "- 复现环境：可以使用 pip install -r requirements.txt 命令安装 requirements.txt 文件中列出的包，以复制该环境。\n",
    "\n",
    "区别\n",
    "\n",
    "- 依赖范围：Conda 能够管理Python以及非Python的依赖，而pip仅管理Python包。\n",
    "\n",
    "- 环境管理：Conda 同时是环境管理器，能够创建隔离的环境。Pip 仅是包管理器，虽然可以与虚拟环境（如 venv）结合使用，但不直接管理环境。\n",
    "\n",
    "- 复杂度：environment.yml 可以包含更复杂的环境信息，如构建平台和通道，而 requirements.txt 主要关注Python包列表。\n",
    "\n",
    "- 交叉使用：在某些情况下，Conda环境中可能同时使用 requirements.txt（对于用pip安装的包）和 environment.yml（对于用conda安装的包和环境配置）。\n",
    "\n",
    "在处理跨语言或涉及复杂依赖的大型项目时，environment.yml 和 Conda 通常更为合适。对于纯Python项目，requirements.txt 和 pip 可能更简单、更直接。避免在conda 与pip在同一环境下混用，容易发生依赖冲突. (python3 -m site: 可用来查询目前使用的是miniconda还是pip管理下的pkgs )"
   ]
  },
  {
   "cell_type": "markdown",
   "metadata": {},
   "source": [
    "**Conda** \n",
    "\n",
    "使用 Conda 管理不同的环境非常方便，尤其是在进行数据科学和机器学习项目时，因为 Conda 不仅可以管理 Python 库，还能管理非 Python 库。The detail process in on [Miniconda on Ubuntu](https://zhuanlan.zhihu.com/p/368095197) 以下是使用 Conda 管理不同环境的基本命令："
   ]
  },
  {
   "cell_type": "code",
   "execution_count": null,
   "metadata": {
    "vscode": {
     "languageId": "shellscript"
    }
   },
   "outputs": [],
   "source": [
    "# Configure auto activate base: \n",
    "Conda config --set auto_activate_base false\n",
    "\n",
    "# Show env version: \n",
    "conda --version\n",
    "\n",
    "# Conda update spific package:\n",
    "conda update -n <env_name> [package_name]\n",
    "\n",
    "# Install env with some setup: \n",
    "conda create --name <env_name> [python_version] [package_name]\n",
    "\n",
    "# Uninstall env: \n",
    "conda env remove -n myenv\n",
    "\n",
    "# Activate or change env: \n",
    "conda activate myenv\n",
    "\n",
    "# Deactivate or change env: \n",
    "conda deactivate myenv\n",
    "\n",
    "# Show all avaible env: \n",
    "conda env list\n",
    "\n",
    "# Install package: \n",
    "conda install packagename\n",
    "\n",
    "# Uninstall package: \n",
    "conda uninstall packagename\n",
    "\n",
    "# Show all package: \n",
    "conda list\n",
    "\n",
    "# Search sepcific package: \n",
    "conda search packagename"
   ]
  },
  {
   "cell_type": "markdown",
   "metadata": {},
   "source": [
    "**pip + Venv**"
   ]
  },
  {
   "cell_type": "markdown",
   "metadata": {},
   "source": [
    "Python 自带了一个名为 venv 的环境管理工具与pip工具包管理工具，用于创建隔离的 Python 环境。对于 Python 3.3 及以上版本，venv 模块已经内置在标准库中，因此无需单独安装. 使用 venv 创建的虚拟环境是与特定 Python 版本相关联的。如果你升级了 Python，可能需要重新创建虚拟环境。虚拟环境可以帮助你管理依赖项，避免不同项目之间的包版本冲突。与 Conda 不同，venv 不会处理 Python 之外的依赖项，也不会管理非 Python 库。以下是使用 venv 的详细步骤："
   ]
  },
  {
   "cell_type": "code",
   "execution_count": null,
   "metadata": {
    "vscode": {
     "languageId": "shellscript"
    }
   },
   "outputs": [],
   "source": [
    "# Install venv with some setup: \n",
    "python -m venv [/path] [env_name] \n",
    "\n",
    "# In current dict:  \n",
    "python -m venv myenv \n",
    "\n",
    "# Uninstall venv (虚拟环境实际上只是一个包含文件的目录。要删除虚拟环境，只需删除该目录)\n",
    "rm -r /path/to/virtual/environment \n",
    "\n",
    "# Activate venv\n",
    "source myenv/bin/activate\n",
    "\n",
    "# Deactivate venv\n",
    "deactivate\n",
    "\n",
    "# Install pkgs\n",
    "pip install package_name\n",
    "\n",
    "# Uninstall pkgs\n",
    "pip uninstall package_name\n",
    "\n",
    "# Check version of pkgs\n",
    "import pkgs_name\n",
    "print(pkgs_name.__version__)"
   ]
  }
 ],
 "metadata": {
  "kernelspec": {
   "display_name": "base",
   "language": "python",
   "name": "python3"
  },
  "language_info": {
   "codemirror_mode": {
    "name": "ipython",
    "version": 3
   },
   "file_extension": ".py",
   "mimetype": "text/x-python",
   "name": "python",
   "nbconvert_exporter": "python",
   "pygments_lexer": "ipython3",
   "version": "3.8.10"
  }
 },
 "nbformat": 4,
 "nbformat_minor": 2
}
