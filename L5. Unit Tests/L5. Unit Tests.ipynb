{
 "cells": [
  {
   "cell_type": "markdown",
   "metadata": {},
   "source": [
    "**Test Manually**"
   ]
  },
  {
   "cell_type": "code",
   "execution_count": null,
   "metadata": {},
   "outputs": [],
   "source": [
    "# calculator.py\n",
    "def main():\n",
    "    x = int(input(\"What's x? \"))\n",
    "    print(\"x squared is\", square(x))\n",
    "    \n",
    "def square(n):\n",
    "    return n * n\n",
    "\n",
    "if __name__ == \"__main__\":\n",
    "    main()"
   ]
  },
  {
   "cell_type": "code",
   "execution_count": null,
   "metadata": {},
   "outputs": [],
   "source": [
    "# test_calculator.py\n",
    "from calculator import square\n",
    "\n",
    "def main():\n",
    "    test_square()\n",
    "    test_square_ass()\n",
    "\n",
    "# first approach to test code - more code than original code \n",
    "def test_square():\n",
    "    if square(2) != 4:\n",
    "        print(\"2 sqaured was not 4!\")\n",
    "    if square(3) != 9:\n",
    "        print(\"3 squared was not 9!\")\n",
    "print(\"Every is Great!\")\n",
    "\n",
    "# second approach to test code - assert \n",
    "def test_square_ass():\n",
    "    try:\n",
    "        assert square(2) == 4 # Assertion Error or empty\n",
    "    except AssertionError:\n",
    "        print(\"2 sqaured was not 4!\")\n",
    "    try:\n",
    "        assert square(3) == 9 # Assertion Error or empty\n",
    "    except AssertionError:\n",
    "        print(\"3 squared was not 9!\")\n",
    "\n",
    "if __name__ == \"__main__\":\n",
    "    main()"
   ]
  },
  {
   "cell_type": "markdown",
   "metadata": {},
   "source": [
    "**Pytest**"
   ]
  },
  {
   "cell_type": "markdown",
   "metadata": {},
   "source": [
    "command line: pytest test_calculator.py\n",
    "- pytest will basically run the function in the test_ or _test file to capture different AssertionError "
   ]
  },
  {
   "cell_type": "code",
   "execution_count": null,
   "metadata": {},
   "outputs": [],
   "source": [
    "# test_calculator.py\n",
    "import pytest\n",
    "from calculator import square\n",
    "\n",
    "# without print and try-except statements\n",
    "def test_square():\n",
    "    assert square (2) == 4\n",
    "    assert square (3) == 9\n",
    "    assert square (-2) == 4\n",
    "    assert square (-3) == 9\n",
    "    assert square (0) == 0\n",
    "    \n",
    "# test them in different categories\n",
    "def test_positive():\n",
    "    assert square(2) == 4\n",
    "    assert square(3) == 9\n",
    "    \n",
    "def test_negative():\n",
    "    assert square (-2) == 4\n",
    "    assert square (-3) == 9\n",
    "    \n",
    "def test_zero():\n",
    "    assert square (0) == 0\n",
    "    \n",
    "# test potential error in the code \n",
    "def test_str():\n",
    "    with pytest.raises(TypeError):\n",
    "        square(\"cat\")"
   ]
  },
  {
   "cell_type": "markdown",
   "metadata": {},
   "source": [
    "Write robust code that is easy tested "
   ]
  },
  {
   "cell_type": "code",
   "execution_count": null,
   "metadata": {},
   "outputs": [],
   "source": [
    "# hello.py\n",
    "def main():\n",
    "    name = input(\"What's your name? \")\n",
    "    print(hello(name))    # print at outside of the function\n",
    "    \n",
    "def hello(to=\"world\"):\n",
    "    # print(\"hello,\", to)\n",
    "    return f\"hello, {to}\" # use return in the tested function rather than print\n",
    "    \n",
    "if __name__ == \"_main_\":\n",
    "    main()"
   ]
  },
  {
   "cell_type": "code",
   "execution_count": null,
   "metadata": {},
   "outputs": [],
   "source": [
    "# test_hello.py\n",
    "from hello import hello\n",
    "\n",
    "def test_default():\n",
    "    assert hello() == \"hello, world\"\n",
    "    \n",
    "def test_argument():\n",
    "    assert hello(\"David\") == \"hello, David\"\n",
    "\n",
    "# use for loop to test multiply cases\n",
    "def test_arguments():\n",
    "    for name in [\"Hermione\", \"Harry\", \"Ron\"]:\n",
    "        assert hello(name) == f\"hello, {name}\""
   ]
  },
  {
   "cell_type": "markdown",
   "metadata": {},
   "source": [
    "pytest a test fold with mutlipy test_ / _test are tested together\n",
    "- add a __init__.py in test fold (this told the interperator to treat the flod as a package)\n",
    "- run \"pytest test\" at root dirctory of test fold"
   ]
  }
 ],
 "metadata": {
  "kernelspec": {
   "display_name": "base",
   "language": "python",
   "name": "python3"
  },
  "language_info": {
   "codemirror_mode": {
    "name": "ipython",
    "version": 3
   },
   "file_extension": ".py",
   "mimetype": "text/x-python",
   "name": "python",
   "nbconvert_exporter": "python",
   "pygments_lexer": "ipython3",
   "version": "3.11.4"
  }
 },
 "nbformat": 4,
 "nbformat_minor": 2
}
