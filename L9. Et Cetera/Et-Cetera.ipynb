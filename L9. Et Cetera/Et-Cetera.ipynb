{
 "cells": [
  {
   "cell_type": "markdown",
   "metadata": {},
   "source": [
    "# Et Cetera"
   ]
  },
  {
   "cell_type": "markdown",
   "metadata": {},
   "source": [
    "### Set"
   ]
  },
  {
   "cell_type": "code",
   "execution_count": null,
   "metadata": {},
   "outputs": [],
   "source": [
    "students = [\n",
    "    {\"name\": \"Hermione\", \"house\": \"Gryffindor\", \"patronus\": \"Otter\"},\n",
    "    {\"name\": \"Harry\", \"house\": \"Gryffindor\", \"patronus\": \"Stag\"},\n",
    "    {\"name\": \"Ron\", \"house\": \"Gryffindor\", \"patronus\": \"Jack Russell terrier\"},\n",
    "    {\"name\": \"Draco\", \"house\": \"Slytherin\", \"patronus\": None},\n",
    "]\n",
    "\n",
    "# list usage\n",
    "houses = list()\n",
    "for student in students:\n",
    "    if student[\"house\"] not in houses:\n",
    "        houses.append(student[\"house\"])\n",
    "\n",
    "for house in sorted(houses):\n",
    "    print(house)\n",
    "\n",
    "# set usage (set only accpet element if the set don not have)\n",
    "houses = set()\n",
    "for student in students:\n",
    "    houses.add(student[\"house\"])\n",
    "\n",
    "for house in sorted(houses):\n",
    "    print(house)"
   ]
  },
  {
   "cell_type": "markdown",
   "metadata": {},
   "source": [
    "### Global"
   ]
  },
  {
   "cell_type": "code",
   "execution_count": null,
   "metadata": {},
   "outputs": [],
   "source": [
    "balance = 0\n",
    "\n",
    "\n",
    "def main():\n",
    "    print(\"Balance: \", balance)\n",
    "    deposit(100)\n",
    "    withdraw(50)\n",
    "    print(\"Balance:\", balance)\n",
    "\n",
    "\n",
    "def deposit(n):\n",
    "    global balance  # told python to access global variable\n",
    "    balance += n  # otherwise this will throw a unbounded error\n",
    "\n",
    "\n",
    "def withdraw(n):\n",
    "    global balance\n",
    "    balance -= n\n",
    "\n",
    "\n",
    "if __name__ == \"__main__\":\n",
    "    main()"
   ]
  },
  {
   "cell_type": "code",
   "execution_count": null,
   "metadata": {},
   "outputs": [],
   "source": [
    "class Account:\n",
    "    def __init__(self):\n",
    "        self._balance = 0"
   ]
  },
  {
   "cell_type": "markdown",
   "metadata": {},
   "source": [
    "### Constants"
   ]
  },
  {
   "cell_type": "code",
   "execution_count": null,
   "metadata": {},
   "outputs": [],
   "source": [
    "# global constant\n",
    "MEOWS = 3  # put code at the top of the file\n",
    "\n",
    "for _ in range(MEOWS):\n",
    "    print(\"meow\")"
   ]
  },
  {
   "cell_type": "code",
   "execution_count": null,
   "metadata": {},
   "outputs": [],
   "source": [
    "# class constant\n",
    "class Cat:\n",
    "    MEOW = 3\n",
    "\n",
    "    def meow(self):\n",
    "        for _ in range(Cat.MEOW):\n",
    "            print(\"meow\")\n",
    "\n",
    "\n",
    "cat = Cat()\n",
    "cat.meow()"
   ]
  },
  {
   "cell_type": "markdown",
   "metadata": {},
   "source": [
    "### Type hints"
   ]
  },
  {
   "cell_type": "markdown",
   "metadata": {},
   "source": [
    "Python is a dynamic language, thus it is no hard restrication on type change. Some tools were developed to test if the codes do the corret type change. For instance, 'mypy' is one of the most popular"
   ]
  },
  {
   "cell_type": "code",
   "execution_count": null,
   "metadata": {
    "vscode": {
     "languageId": "shellscript"
    }
   },
   "outputs": [],
   "source": [
    "> mypy test.py\n",
    "test.py:6: error: Argument 1 to \"meow\" has incompatible type \"str\"; expected \"int\"  [arg-type]\n",
    "Found 1 error in 1 file (checked 1 source file)"
   ]
  },
  {
   "cell_type": "code",
   "execution_count": null,
   "metadata": {},
   "outputs": [],
   "source": [
    "def meow(n: int):  # n: int is a type hint to let python and other know n shoudl be int\n",
    "    for _ in range(n):\n",
    "        print(\"meow\")\n",
    "\n",
    "\n",
    "number = input(\"Number: \")\n",
    "meow(number)"
   ]
  },
  {
   "cell_type": "code",
   "execution_count": null,
   "metadata": {},
   "outputs": [],
   "source": [
    "def meow(n: int) -> None:  # None is a return hints\n",
    "    for _ in range(n):\n",
    "        print(\"meow\")\n",
    "\n",
    "\n",
    "number: int = int(input(\"Number: \"))\n",
    "meows: str = meow(number)\n",
    "print(meows)\n",
    "\n",
    "\n",
    "def meow(n: int) -> str:\n",
    "    return \"meow\\n\" * n  # '+', '*' are overloaded for str\n",
    "\n",
    "\n",
    "number: int = int(input(\"Number: \"))\n",
    "meows: str = meow(number)\n",
    "print(meows)"
   ]
  },
  {
   "cell_type": "markdown",
   "metadata": {},
   "source": [
    "### Docstrings"
   ]
  },
  {
   "cell_type": "code",
   "execution_count": null,
   "metadata": {},
   "outputs": [],
   "source": [
    "def meow(n: int) -> None:  # None is a return hints\n",
    "    \"\"\"_summary_\n",
    "\n",
    "    Args:\n",
    "        n (int): _description_\n",
    "    \"\"\"\n",
    "    for _ in range(n):\n",
    "        print(\"meow\")\n",
    "\n",
    "\n",
    "number: int = int(input(\"Number: \"))\n",
    "meows: str = meow(number)\n",
    "\n",
    "print(meows)"
   ]
  },
  {
   "cell_type": "markdown",
   "metadata": {},
   "source": [
    "### Argparse"
   ]
  },
  {
   "cell_type": "code",
   "execution_count": null,
   "metadata": {
    "vscode": {
     "languageId": "shellscript"
    }
   },
   "outputs": [],
   "source": [
    "> python3 meows.py 3"
   ]
  },
  {
   "cell_type": "code",
   "execution_count": null,
   "metadata": {},
   "outputs": [],
   "source": [
    "import sys\n",
    "\n",
    "if len(sys.argv) == 1:\n",
    "    print(\"meow\")\n",
    "else:\n",
    "    print(\"usage: meows.py\")"
   ]
  },
  {
   "cell_type": "code",
   "execution_count": null,
   "metadata": {
    "vscode": {
     "languageId": "shellscript"
    }
   },
   "outputs": [],
   "source": [
    "> python3 meow.py -n 3"
   ]
  },
  {
   "cell_type": "code",
   "execution_count": null,
   "metadata": {},
   "outputs": [],
   "source": [
    "import sys\n",
    "\n",
    "if len(sys.argv) == 1:\n",
    "    print(\"meow\")\n",
    "elif len(sys.argv) == 3 and sys.argv[1] == \"-n\":\n",
    "    n = int(sys.argv[2])\n",
    "    for _ in range(n):\n",
    "        print(\"meow\")\n",
    "else:\n",
    "    print(\"usage: meows.py\")"
   ]
  },
  {
   "cell_type": "code",
   "execution_count": null,
   "metadata": {},
   "outputs": [],
   "source": [
    "# argparse lib - simpify I/O process\n",
    "import argparse\n",
    "\n",
    "# Create the parser and add a description\n",
    "parser = argparse.ArgumentParser(description=\"Meow like a cat\")\n",
    "\n",
    "# Add arguments\n",
    "parser.add_argument(\"-n\", default=1, help=\"number of times to meow\", type=int)\n",
    "parser.add_argument(\"-f\", default=1, help=\"volume of meow\", type=int)\n",
    "\n",
    "# Parse arguments\n",
    "args = parser.parse_args()\n",
    "\n",
    "# Print \"meow\" with the specified frequency and volume\n",
    "for _ in range(args.n):\n",
    "    print(\"meow \" * args.f)"
   ]
  },
  {
   "cell_type": "markdown",
   "metadata": {},
   "source": [
    "### Unpacking"
   ]
  },
  {
   "cell_type": "markdown",
   "metadata": {},
   "source": [
    "**Note**: Unpacking works with sets in Python, but it's important to remember that sets are unordered collections. This means that when you unpack elements from a set, you cannot guarantee the order in which they are unpacked. This can lead to unpredictable behavior if the order of elements is important for your function or operation."
   ]
  },
  {
   "cell_type": "markdown",
   "metadata": {},
   "source": [
    "Input list and dict with unpacking sign '*' and '**'"
   ]
  },
  {
   "cell_type": "code",
   "execution_count": null,
   "metadata": {},
   "outputs": [],
   "source": [
    "def total(galleons, sickless, knuts):\n",
    "    return (galleons * 17 + sickless) * 29 + knuts\n",
    "\n",
    "\n",
    "# order of element matters\n",
    "coins = [100, 50, 25]\n",
    "\n",
    "# pass each element of the list coins as a separate argument to the function.\n",
    "# *argument -> pass list in every element\n",
    "print(total(*coins), \"Knuts\")\n",
    "print(total(100, 50, 25), \"Knuts\")"
   ]
  },
  {
   "cell_type": "markdown",
   "metadata": {},
   "source": [
    "Define a function with unpacking parameters"
   ]
  },
  {
   "cell_type": "code",
   "execution_count": null,
   "metadata": {},
   "outputs": [],
   "source": [
    "def f(\n",
    "    *args, **kwargs\n",
    "):  # '*', '**' parameters are not neccessary to be called, they are optional\n",
    "    print(\"Positional: \", args)  # pack args as a tuple\n",
    "    print(\"Named = \", kwargs)  # pack args as a dict\n",
    "    import pdb\n",
    "\n",
    "    pdb.set_trace()\n",
    "\n",
    "\n",
    "f(100, 50, 25, 5)\n",
    "f(galleons=100, sickless=50, knuts=25)"
   ]
  },
  {
   "cell_type": "markdown",
   "metadata": {},
   "source": [
    "### Map"
   ]
  },
  {
   "cell_type": "markdown",
   "metadata": {},
   "source": [
    "`map` 函数在 Python 中是一种内置函数，用于对序列中的每个元素应用一个给定的函数，并返回一个 map 对象（它是一个迭代器）。基本用法如下：\n",
    "\n",
    "```python\n",
    "map(function, iterable, ...)\n",
    "```\n",
    "\n",
    "- `function`：这是一个函数，`map` 将这个函数应用于下面提到的每个迭代元素。\n",
    "- `iterable`：一个或多个可迭代对象，如列表、元组等。`map` 函数会遍历这些可迭代对象中的每个元素，并将它们作为参数传递给上面的 `function`。\n",
    "\n",
    "返回的 map 对象可以使用 `list()` 或其他类似函数转换为列表等可迭代的数据结构。\n",
    "\n",
    "例如，如果你想将一个数字列表中的每个元素都乘以 2，可以使用 `map` 函数如下：\n",
    "\n",
    "```python\n",
    "def multiply_by_two(x):\n",
    "    return x * 2\n",
    "\n",
    "original_list = [1, 2, 3, 4, 5]\n",
    "mapped_list = map(multiply_by_two, original_list)\n",
    "\n",
    "print(list(mapped_list))\n",
    "```\n",
    "\n",
    "这将输出 `[2, 4, 6, 8, 10]`。\n",
    "\n",
    "`map` 可以更加精简地使用，例如，通过 lambda 函数，上面的例子可以写成一行：\n",
    "\n",
    "```python\n",
    "print(list(map(lambda x: x * 2, [1, 2, 3, 4, 5])))\n",
    "```\n",
    "\n",
    "这也将输出 `[2, 4, 6, 8, 10]`。\n",
    "\n",
    "`map` 也支持多个迭代器，函数必须接受相应数量的参数。例如：\n",
    "\n",
    "```python\n",
    "result = map(lambda x, y: x + y, [1, 2, 3], [4, 5, 6])\n",
    "print(list(result))\n",
    "```\n",
    "\n",
    "这将输出 `[5, 7, 9]`，因为 1+4=5, 2+5=7, 3+6=9。"
   ]
  },
  {
   "cell_type": "code",
   "execution_count": null,
   "metadata": {},
   "outputs": [],
   "source": [
    "# simple method\n",
    "def yell1(phrase):\n",
    "    print(phrase.upper())\n",
    "\n",
    "\n",
    "# unpack method\n",
    "def yell2(*words):\n",
    "    sentence = []\n",
    "    for word in words:\n",
    "        sentence.append(word.upper())\n",
    "    print(*sentence)\n",
    "\n",
    "\n",
    "# map function\n",
    "def yell3(*words):\n",
    "    uppercased = map(str.upper, words)  # pass str.upper function into another function\n",
    "    print(\n",
    "        *uppercased\n",
    "    )  # uppack keyword is multi-fonction can unpack most object, includes list, dict\n",
    "\n",
    "\n",
    "# list comprehensions\n",
    "def yell4(*words):\n",
    "    uppercased = [word.upper() for word in words]\n",
    "    print(*uppercased)\n",
    "\n",
    "\n",
    "def main():\n",
    "    yell1(\"This is CS50\")\n",
    "    yell2(\"This\", \"is\", \"CS50\")\n",
    "    yell3(\"This\", \"is\", \"CS50\")\n",
    "    yell4(\"This\", \"is\", \"CS50\")\n",
    "\n",
    "\n",
    "if __name__ == \"__main__\":\n",
    "    main()"
   ]
  },
  {
   "cell_type": "markdown",
   "metadata": {},
   "source": [
    "### List Comprehensions"
   ]
  },
  {
   "cell_type": "code",
   "execution_count": null,
   "metadata": {},
   "outputs": [],
   "source": [
    "students = [\n",
    "    {\"name\": \"Hermione\", \"house\": \"Gryffindor\", \"patronus\": \"Otter\"},\n",
    "    {\"name\": \"Harry\", \"house\": \"Gryffindor\", \"patronus\": \"Stag\"},\n",
    "    {\"name\": \"Ron\", \"house\": \"Gryffindor\", \"patronus\": \"Jack Russell terrier\"},\n",
    "    {\"name\": \"Draco\", \"house\": \"Slytherin\", \"patronus\": None},\n",
    "]\n",
    "\n",
    "# inside list comprehensions\n",
    "griffindors = [\n",
    "    student[\"name\"] for student in students if student[\"house\"] == \"Gryffindor\"\n",
    "]\n",
    "\n",
    "\n",
    "# outside list comprehensions - fiter function\n",
    "def is_gryffindor(s):\n",
    "    return s[\"house\"] == \"Gryffindor\"\n",
    "\n",
    "\n",
    "gryffindor = filter(is_gryffindor, students)\n",
    "\n",
    "\n",
    "def main():\n",
    "    print(*sorted(griffindors))\n",
    "    print(*sorted(gryffindor))\n",
    "\n",
    "\n",
    "if __name__ == \"__main__\":\n",
    "    main()"
   ]
  },
  {
   "cell_type": "markdown",
   "metadata": {},
   "source": [
    "### Dict Comprehensions"
   ]
  },
  {
   "cell_type": "code",
   "execution_count": null,
   "metadata": {},
   "outputs": [],
   "source": [
    "students = [\"Hermione\", \"Harry\", \"Ron\"]\n",
    "gryffindors = []\n",
    "\n",
    "# comman way\n",
    "for student in students:\n",
    "    gryffindors.append({\"name\": student, \"house\": \"Gryffindor\"})\n",
    "    \n",
    "# dict comprehesnions\n",
    "# list with many dicts\n",
    "gryffindors = [{\"name\": student, \"house\": \"Gryffindor\"} for student in students]\n",
    "# one big dict\n",
    "gryffindors = {student: \"Gryffindor\" for student in students} \n",
    "\n",
    "print(gryffindors)"
   ]
  },
  {
   "cell_type": "markdown",
   "metadata": {},
   "source": [
    "### Generators"
   ]
  },
  {
   "cell_type": "code",
   "execution_count": null,
   "metadata": {},
   "outputs": [],
   "source": []
  },
  {
   "cell_type": "markdown",
   "metadata": {},
   "source": [
    "### Mulithreading"
   ]
  }
 ],
 "metadata": {
  "kernelspec": {
   "display_name": "base",
   "language": "python",
   "name": "python3"
  },
  "language_info": {
   "codemirror_mode": {
    "name": "ipython",
    "version": 3
   },
   "file_extension": ".py",
   "mimetype": "text/x-python",
   "name": "python",
   "nbconvert_exporter": "python",
   "pygments_lexer": "ipython3",
   "version": "3.8.10"
  }
 },
 "nbformat": 4,
 "nbformat_minor": 2
}
