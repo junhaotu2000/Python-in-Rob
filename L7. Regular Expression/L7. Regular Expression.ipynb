{
 "cells": [
  {
   "cell_type": "markdown",
   "metadata": {},
   "source": [
    "# Regular Expression"
   ]
  },
  {
   "cell_type": "markdown",
   "metadata": {},
   "source": [
    "**Ex: Ask user to input their email address**"
   ]
  },
  {
   "cell_type": "markdown",
   "metadata": {},
   "source": [
    "### Check with comman way"
   ]
  },
  {
   "cell_type": "code",
   "execution_count": null,
   "metadata": {},
   "outputs": [],
   "source": [
    "email = input(\"What's your email? \").strip()\n",
    "\n",
    "# this is very loose check - some expectition can pass \n",
    "# sush as '@.'\n",
    "if \"@\" in email and \".\" in email:\n",
    "    print(\"Valid\")\n",
    "else:\n",
    "    print(\"Invalid\")"
   ]
  },
  {
   "cell_type": "code",
   "execution_count": null,
   "metadata": {},
   "outputs": [],
   "source": [
    "email = input(\"What's your email? \").strip()\n",
    "\n",
    "# check if @ split username and its domain\n",
    "# \n",
    "username, domain = email.split(\"@\")\n",
    "if username and domain.endswith(\".edu\"):\n",
    "    print(\"Valid\")\n",
    "else:\n",
    "    print(\"Invalid\")"
   ]
  },
  {
   "cell_type": "markdown",
   "metadata": {},
   "source": [
    "### Check with regular expression"
   ]
  },
  {
   "cell_type": "markdown",
   "metadata": {},
   "source": [
    "**re.search(pattern, string, flags=0)**\n",
    "-       . any character except a newline\n",
    "-       * 0 or more repetitions\n",
    "-       + 1 or more repetitions\n",
    "-       ? 0 or 1 repetition\n",
    "-       {m} m repetitions\n",
    "-       {m, n} m-n repetitions"
   ]
  },
  {
   "cell_type": "code",
   "execution_count": null,
   "metadata": {},
   "outputs": [],
   "source": [
    "import re\n",
    "\n",
    "email = input(\"What's your email? \").strip()\n",
    "\n",
    "# check if 0 or more a-z before and after \n",
    "if re.search(\".*@.*\", email):\n",
    "    print(\"Valid\")\n",
    "else:\n",
    "    print(\"Invalid\")\n",
    "    \n",
    "# check if 1 or more a-z before and after \n",
    "if re.search(\".+@.+\", email):\n",
    "    print(\"Valid\")\n",
    "else:\n",
    "    print(\"Invalid\")\n",
    "\n",
    "if re.search(\"..*@..*\", email):\n",
    "    print(\"Valid\")\n",
    "else:\n",
    "    print(\"Invalid\")\n",
    "\n",
    "# using scape character\n",
    "#一个原始字符串（raw string）是通过在字符串前加上 r 或 R 来定义的。\n",
    "# 原始字符串不会对反斜线 \\ 进行特殊处理，这意味着在原始字符串中反斜线就是一个普通的字符，\n",
    "# 而不是用来表示转义字符的特殊符号。\n",
    "# excepction: malan@@@harvard.edu, my mail address is malan@harvard.edu\n",
    "# the only requirment is to to include a string satisify this pattern\n",
    "if re.search(r\".+@.+\\.edu\", email): # raw string\n",
    "    print(\"Valid\")\n",
    "else:\n",
    "    print(\"Invalid\")"
   ]
  },
  {
   "cell_type": "markdown",
   "metadata": {},
   "source": [
    "\n",
    "-       ^ matches the start of the string\n",
    "-       $ matches the end of the string or just before the newline at the end of the string\n",
    "-       [] set of characters\n",
    "-       [^] complementing the set\n",
    "-       \\d decimal digit\n",
    "-       \\D not a decimal digit\n",
    "-       \\s whitespace characters\n",
    "-       \\S not a whitespace character\n",
    "-       \\w word character ... as well as numbers and the underscore\n",
    "-       \\W not a word character"
   ]
  },
  {
   "cell_type": "code",
   "execution_count": null,
   "metadata": {},
   "outputs": [],
   "source": [
    "import re\n",
    "\n",
    "email = input(\"What's your email? \").strip()\n",
    "\n",
    "if re.search(r\"^.+@.+\\.edu$\", email):\n",
    "    print(\"Valid\")\n",
    "else:\n",
    "    print(\"Invalid\")"
   ]
  }
 ],
 "metadata": {
  "kernelspec": {
   "display_name": "Python 3",
   "language": "python",
   "name": "python3"
  },
  "language_info": {
   "codemirror_mode": {
    "name": "ipython",
    "version": 3
   },
   "file_extension": ".py",
   "mimetype": "text/x-python",
   "name": "python",
   "nbconvert_exporter": "python",
   "pygments_lexer": "ipython3",
   "version": "3.8.10"
  }
 },
 "nbformat": 4,
 "nbformat_minor": 2
}
