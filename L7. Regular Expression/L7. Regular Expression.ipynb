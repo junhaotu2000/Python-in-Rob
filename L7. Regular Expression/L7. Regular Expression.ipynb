{
 "cells": [
  {
   "cell_type": "markdown",
   "metadata": {},
   "source": [
    "# Regular Expression (Regex)"
   ]
  },
  {
   "cell_type": "markdown",
   "metadata": {},
   "source": [
    "## Ex: Ask user to input their email address"
   ]
  },
  {
   "cell_type": "markdown",
   "metadata": {},
   "source": [
    "### Check with comman way"
   ]
  },
  {
   "cell_type": "code",
   "execution_count": null,
   "metadata": {},
   "outputs": [],
   "source": [
    "email = input(\"What's your email? \").strip()\n",
    "\n",
    "# this is very loose check - some expectition can pass\n",
    "# sush as '@.'\n",
    "if \"@\" in email and \".\" in email:\n",
    "    print(\"Valid\")\n",
    "else:\n",
    "    print(\"Invalid\")"
   ]
  },
  {
   "cell_type": "code",
   "execution_count": null,
   "metadata": {},
   "outputs": [],
   "source": [
    "email = input(\"What's your email? \").strip()\n",
    "\n",
    "# check if @ split username and its domain\n",
    "#\n",
    "username, domain = email.split(\"@\")\n",
    "if username and domain.endswith(\".edu\"):\n",
    "    print(\"Valid\")\n",
    "else:\n",
    "    print(\"Invalid\")"
   ]
  },
  {
   "cell_type": "markdown",
   "metadata": {},
   "source": [
    "### Check with regular expression"
   ]
  },
  {
   "cell_type": "markdown",
   "metadata": {},
   "source": [
    "**re.search(pattern, string, flags=0)**\n",
    "-       . any character except a newline\n",
    "-       * 0 or more repetitions\n",
    "-       + 1 or more repetitions\n",
    "-       ? 0 or 1 repetition\n",
    "-       {m} m repetitions\n",
    "-       {m, n} m-n repetitions"
   ]
  },
  {
   "cell_type": "code",
   "execution_count": null,
   "metadata": {},
   "outputs": [],
   "source": [
    "import re\n",
    "\n",
    "email = input(\"What's your email? \").strip()\n",
    "\n",
    "# check if 0 or more a-z before and after\n",
    "if re.search(\".*@.*\", email):\n",
    "    print(\"Valid\")\n",
    "else:\n",
    "    print(\"Invalid\")\n",
    "\n",
    "# check if 1 or more a-z before and after\n",
    "if re.search(\".+@.+\", email):\n",
    "    print(\"Valid\")\n",
    "else:\n",
    "    print(\"Invalid\")\n",
    "\n",
    "if re.search(\"..*@..*\", email):\n",
    "    print(\"Valid\")\n",
    "else:\n",
    "    print(\"Invalid\")\n",
    "\n",
    "# using scape character\n",
    "# 一个原始字符串（raw string）是通过在字符串前加上 r 或 R 来定义的。\n",
    "# 原始字符串不会对反斜线 \\ 进行特殊处理，这意味着在原始字符串中反斜线就是一个普通的字符，\n",
    "# 而不是用来表示转义字符的特殊符号。\n",
    "# excepction: malan@@@harvard.edu/ my mail address is malan@harvard.edu\n",
    "# the only requirment is to to include a string satisify this pattern\n",
    "if re.search(r\".+@.+\\.edu\", email):  # raw string\n",
    "    print(\"Valid\")\n",
    "else:\n",
    "    print(\"Invalid\")"
   ]
  },
  {
   "cell_type": "markdown",
   "metadata": {},
   "source": [
    "\n",
    "-       ^ matches the start of the string\n",
    "-       $ matches the end of the string or just before the newline at the end of the string\n"
   ]
  },
  {
   "cell_type": "code",
   "execution_count": null,
   "metadata": {},
   "outputs": [],
   "source": [
    "import re\n",
    "\n",
    "email = input(\"What's your email? \").strip()\n",
    "\n",
    "# excepction: malan@@@harvard.edu\n",
    "if re.search(r\"^.+@.+\\.edu$\", email):\n",
    "    print(\"Valid\")\n",
    "else:\n",
    "    print(\"Invalid\")"
   ]
  },
  {
   "cell_type": "markdown",
   "metadata": {},
   "source": [
    "-       [] set of characters\n",
    "-       [^] complementing the set"
   ]
  },
  {
   "cell_type": "code",
   "execution_count": null,
   "metadata": {},
   "outputs": [],
   "source": [
    "import re\n",
    "\n",
    "email = input(\"What's your email? \").strip()\n",
    "\n",
    "# exclude @ in the both side of @ sign\n",
    "# excepction: .edu@harvard.edu - too general\n",
    "if re.search(r\"^[^@]+@[^@]+\\.edu$\", email):\n",
    "    print(\"Valid\")\n",
    "else:\n",
    "    print(\"Invalid\")\n",
    "\n",
    "# make it more specific\n",
    "if re.search(r\"^[a-zA-Z0-9_ ]+@[a-zA-Z0-9_ ]+\\.edu$\", email):\n",
    "    print(\"Valid\")\n",
    "else:\n",
    "    print(\"Invalid\")"
   ]
  },
  {
   "cell_type": "markdown",
   "metadata": {},
   "source": [
    "-       \\d decimal digit\n",
    "-       \\D not a decimal digit\n",
    "-       \\s whitespace characters\n",
    "-       \\S not a whitespace character\n",
    "-       \\w word character ... as well as numbers and the underscore\n",
    "-       \\W not a word character"
   ]
  },
  {
   "cell_type": "code",
   "execution_count": null,
   "metadata": {},
   "outputs": [],
   "source": [
    "import re\n",
    "\n",
    "email = input(\"What's your email? \").strip()\n",
    "\n",
    "# only a word - a more concise way\n",
    "if re.search(r\"^\\w+@\\w+\\.edu$\", email):\n",
    "    print(\"Valid\")\n",
    "else:\n",
    "    print(\"Invalid\")"
   ]
  },
  {
   "cell_type": "markdown",
   "metadata": {},
   "source": [
    "-       A|B either A or B\n",
    "-       (...) a group\n",
    "-       (?:...) non-capturing version"
   ]
  },
  {
   "cell_type": "code",
   "execution_count": null,
   "metadata": {},
   "outputs": [],
   "source": [
    "import re\n",
    "\n",
    "email = input(\"What's your email? \").strip()\n",
    "\n",
    "# only a word or a space- a more concise way\n",
    "if re.search(r\"^(\\w|\\s)+@\\w+\\.edu$\", email):\n",
    "    print(\"Valid\")\n",
    "else:\n",
    "    print(\"Invalid\")\n",
    "\n",
    "# deal with MALAN@HARVARD.EDU\n",
    "if re.search(r\"^(\\w|\\s)+@\\w+\\.edu$\", email.lower()):  # force the string into lower case\n",
    "    print(\"Valid\")\n",
    "else:\n",
    "    print(\"Invalid\")"
   ]
  },
  {
   "cell_type": "markdown",
   "metadata": {},
   "source": [
    "-       re.ICNORECASE\n",
    "-       re.MULTILINE\n",
    "-       re.DOTALL"
   ]
  },
  {
   "cell_type": "code",
   "execution_count": null,
   "metadata": {},
   "outputs": [],
   "source": [
    "import re\n",
    "\n",
    "email = input(\"What's your email? \").strip()\n",
    "\n",
    "# deal with MALAN@HARVARD.EDU\n",
    "if re.search(\n",
    "    r\"^(\\w|\\s)+@\\w+\\.edu$\", email, re.IGNORECASE\n",
    "):  # research to specifically igorn the upper and lower case\n",
    "    print(\"Valid\")\n",
    "else:\n",
    "    print(\"Invalid\")\n",
    "\n",
    "# deal with malan@cs50.harvard.edu  -- sub domain\n",
    "if re.search(\n",
    "    r\"^(\\w|\\s)+@(\\w+\\.)?\\w+\\.edu$\", email, re.IGNORECASE\n",
    "):  # ? means zero or more\n",
    "    print(\"Valid\")\n",
    "else:\n",
    "    print(\"Invalid\")\n",
    "\n",
    "# deal with malan@cs50.fall2022.harvard.edu  -- more sub domain\n",
    "if re.search(r\"^(\\w|\\s|\\.)+@(\\w+\\.)*\\w+\\.edu$\", email, re.IGNORECASE):\n",
    "    print(\"Valid\")\n",
    "else:\n",
    "    print(\"Invalid\")"
   ]
  },
  {
   "cell_type": "markdown",
   "metadata": {},
   "source": [
    "**re.match(pattern, string, float = 0)**\n",
    "- similar to re.search but do not need to add ^ to specific from start to end\n",
    "\n",
    "**re.fullmatch(pattern, string, float = 0)**\n",
    "- similar to re.search but do not need to add both ^ and $ to specific from start to end"
   ]
  },
  {
   "cell_type": "markdown",
   "metadata": {},
   "source": [
    "## Ex: Format name and ouput"
   ]
  },
  {
   "cell_type": "markdown",
   "metadata": {},
   "source": [
    "### Check with split func"
   ]
  },
  {
   "cell_type": "code",
   "execution_count": null,
   "metadata": {},
   "outputs": [],
   "source": [
    "name = input(\"What's your name?\").strip()\n",
    "if \",\" in name:\n",
    "    last, first = name.split(\", ?\")\n",
    "    name = f\"{first} {last}\"\n",
    "    print(f\"hello, {name}\")"
   ]
  },
  {
   "cell_type": "markdown",
   "metadata": {},
   "source": [
    "### Check with group func"
   ]
  },
  {
   "cell_type": "code",
   "execution_count": null,
   "metadata": {},
   "outputs": [],
   "source": [
    "import re\n",
    "\n",
    "name = input(\"What's your name?\").strip()\n",
    "matches = re.search(r\"^(.+), (.+)$\", name)\n",
    "\n",
    "# a comman way of using group func\n",
    "if matches:\n",
    "    last, first = matches.groups()\n",
    "    name = f\"{first} {last}\"\n",
    "    # name = matches.group(2) + \" \" + matches.group(1)\n",
    "    print(f\"hello, {name}\")\n",
    "\n",
    "# ':=' (colon equals)- is right side is true then assign value to left side\n",
    "if matches := re.search(r\"^(.+), (.+)$\", name):\n",
    "    name = matches.group(2) + \" \" + matches.group(1)\n",
    "    print(f\"hello, {name}\")"
   ]
  },
  {
   "cell_type": "markdown",
   "metadata": {},
   "source": [
    "## Ex: Extract a username from a url"
   ]
  },
  {
   "cell_type": "markdown",
   "metadata": {},
   "source": [
    "### Do with a command way"
   ]
  },
  {
   "cell_type": "code",
   "execution_count": null,
   "metadata": {},
   "outputs": [],
   "source": [
    "url = input(\"URL: \").strip()\n",
    "print(url)\n",
    "\n",
    "username = url.replace(\"https://twitter.com/\", \"\")\n",
    "print(f\"Username: {username}\")\n",
    "\n",
    "\n",
    "username = url.removeprefix(\"https://twitter.com/\")\n",
    "print(f\"Username: {username}\")"
   ]
  },
  {
   "cell_type": "markdown",
   "metadata": {},
   "source": [
    "### Do with regex"
   ]
  },
  {
   "cell_type": "markdown",
   "metadata": {},
   "source": [
    "re.sub(pattern, repl, string, count = 0, flags = 0)"
   ]
  },
  {
   "cell_type": "code",
   "execution_count": null,
   "metadata": {},
   "outputs": [],
   "source": [
    "import re\n",
    "\n",
    "url = input(\"URL: \").strip()\n",
    "\n",
    "username = re.sub(r\"^(https?://)?(www\\.)?twitter\\.com/\", \"\", url)\n",
    "print(f\"Username: {username}\")\n",
    "\n",
    "# group version\n",
    "matches = re.search(r\"^(https?://)?(www\\.)?twitter\\.com/(.+)$\", url, re.IGNORECASE)\n",
    "if matches:\n",
    "    print(f\"Username: \", matches.group(2))  # group func start from 1 rathrt than 0\n",
    "\n",
    "# non-capturing version (?:) - group but not capture\n",
    "matches = re.search(r\"^(https?://)?(?:www\\.)?twitter\\.com/(.+)$\", url, re.IGNORECASE)\n",
    "if matches:\n",
    "    print(f\"Username: \", matches.group(2))  # group func start from 1 rathrt than 0"
   ]
  },
  {
   "cell_type": "markdown",
   "metadata": {},
   "source": [
    "### Other re() funcs are also avaiable\n",
    "**re.split(pattern, string, maxsplit = 0, flags = 0)**\n",
    "\n",
    "**re.findall(pattern, string, flags = 0)**"
   ]
  }
 ],
 "metadata": {
  "kernelspec": {
   "display_name": "Python 3",
   "language": "python",
   "name": "python3"
  },
  "language_info": {
   "codemirror_mode": {
    "name": "ipython",
    "version": 3
   },
   "file_extension": ".py",
   "mimetype": "text/x-python",
   "name": "python",
   "nbconvert_exporter": "python",
   "pygments_lexer": "ipython3",
   "version": "3.8.10"
  }
 },
 "nbformat": 4,
 "nbformat_minor": 2
}
