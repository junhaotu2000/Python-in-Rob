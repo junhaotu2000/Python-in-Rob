{
 "cells": [
  {
   "cell_type": "code",
   "execution_count": null,
   "metadata": {},
   "outputs": [],
   "source": []
  },
  {
   "cell_type": "code",
   "execution_count": null,
   "metadata": {},
   "outputs": [],
   "source": [
    "email = input(\"What's your email? \").strip()\n",
    "\n",
    "if \"@\" in email and \".\" in email:\n",
    "    print(\"Valid\")\n",
    "else:\n",
    "    print(\"Invalid\")\n",
    "    \n",
    "\n",
    "username, domain = email.split(\"@\")\n",
    "if username and domain.endswith(\".edu\"):\n",
    "    print(\"Valid\")\n",
    "else:\n",
    "    print(\"Invalid\")\n",
    "    \n",
    "import re\n",
    "\"\"\" \n",
    "--   . any character except a newline\n",
    "--   * 0 or more repetitions\n",
    "--   + 1 or more repetitions\n",
    "--   ? 0 or 1 repetition\n",
    "--   {m} m repetitions\n",
    "--   {m, n} m-n repetitions\n",
    "--   ^ matches the start of the string\n",
    "--   $ matches the end of the string or just before the newline at the end of the string\n",
    "--   [] set of characters\n",
    "--   [^] complementing the set\n",
    "--   \\d decimal digit\n",
    "--   \\D not a decimal digit\n",
    "--   \\s whitespace characters\n",
    "--   \\S not a whitespace character\n",
    "--   \\w word character ... as well as numbers and the underscore\n",
    "--   \\W not a word character\n",
    "\n",
    "\"\"\"\n",
    "if re.search(r\"^.+@.+\\.edu$\", email):\n",
    "    print(\"Valid\")\n",
    "else:\n",
    "    print(\"Invalid\")"
   ]
  }
 ],
 "metadata": {
  "kernelspec": {
   "display_name": "Python 3",
   "language": "python",
   "name": "python3"
  },
  "language_info": {
   "codemirror_mode": {
    "name": "ipython",
    "version": 3
   },
   "file_extension": ".py",
   "mimetype": "text/x-python",
   "name": "python",
   "nbconvert_exporter": "python",
   "pygments_lexer": "ipython3",
   "version": "3.8.10"
  }
 },
 "nbformat": 4,
 "nbformat_minor": 2
}
