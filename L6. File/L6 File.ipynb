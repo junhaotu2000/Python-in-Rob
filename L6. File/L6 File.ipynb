{
 "cells": [
  {
   "cell_type": "markdown",
   "metadata": {},
   "source": [
    "List input and output"
   ]
  },
  {
   "cell_type": "code",
   "execution_count": null,
   "metadata": {},
   "outputs": [],
   "source": [
    "names = []\n",
    "for _ in range(3):\n",
    "    name = input((\"What's your name? \"))\n",
    "    names.append(name)\n",
    "\n",
    "for name in sorted(names):\n",
    "    print(f\"hello, {name}\")"
   ]
  },
  {
   "cell_type": "markdown",
   "metadata": {},
   "source": [
    "File input and output"
   ]
  },
  {
   "cell_type": "markdown",
   "metadata": {},
   "source": [
    "Standard file input and output"
   ]
  },
  {
   "cell_type": "code",
   "execution_count": null,
   "metadata": {},
   "outputs": [],
   "source": [
    "name = input(\"What's your name?\")\n",
    "\n",
    "# handle to show the state of the file\n",
    "file = open(\"names.txt\", \"w\") # if the file does not exist, it will create a new file \n",
    "file.write(name)\n",
    "file.close()\n",
    "\n",
    "# append txt under the existing docs\n",
    "file = open(\"names.txt\", \"a\") \n",
    "file.write(f\"{name}\\n\") # add txt into new line\n",
    "file.close()\n",
    "\n",
    "# automatically close the file in case of forgetting close file\n",
    "with open(\"names.txt\", \"a\") as file: \n",
    "    file.write(f\"{name}\\n\")\n",
    "    \n",
    "# read a file - read into a list and print out it by loop\n",
    "with open(\"names.txt\", \"r\") as file: \n",
    "    lines = file.readlines()\n",
    "\n",
    "for line in lines:\n",
    "    print(\"hello,\", line.rstrip()) # rstrip can elminate the additional \\n in the each line\n",
    "    \n",
    "# read a file - print out the file directly\n",
    "with open(\"names.txt\", \"r\") as file:\n",
    "    for line in file:\n",
    "        print(\"hello,\" line.restrip())\n",
    "              \n",
    "# read and write file in different location at same time \n",
    "with open(\"example.txt\", \"r+\") as file:\n",
    "    # Read a part of the file\n",
    "    file.seek(0)  # Move to the beginning of the file\n",
    "    data = file.read(100)  # Read the first 100 characters\n",
    "\n",
    "    # Process the data\n",
    "    print(data)  # Print or process the data\n",
    "\n",
    "    # Write data to another part of the file\n",
    "    file.seek(500)  # Move to the 500th character position in the file\n",
    "    file.write(\"new data\")  # Write new data at this position"
   ]
  },
  {
   "cell_type": "markdown",
   "metadata": {},
   "source": [
    "Sort the element in the file"
   ]
  },
  {
   "cell_type": "code",
   "execution_count": null,
   "metadata": {},
   "outputs": [],
   "source": [
    "names = []\n",
    "\n",
    "with open(\"names.txt\", \"r\") as file:\n",
    "    for line in file:\n",
    "        names.append(line.rstrip())\n",
    "\n",
    "# sort the name in the list in alphabetic\n",
    "# sorted(iterable, /, *, key = None, reverse = False)\n",
    "for name in sorted(names):\n",
    "# for name in sorted(names, reverse = True): - reverse the order \n",
    "    print(f\"hello, {name}\")"
   ]
  },
  {
   "cell_type": "markdown",
   "metadata": {},
   "source": [
    "Comma-seperated-Values (csv) file is commanly used by programmer to process data"
   ]
  },
  {
   "cell_type": "code",
   "execution_count": null,
   "metadata": {},
   "outputs": [],
   "source": [
    "with open(\"students.csv\", \"r\") as file:\n",
    "    for line in file:\n",
    "        row = line.rstrip().split(\",\")\n",
    "        print(f\"{row[0]} is in {row[1]}\")\n",
    "        \n",
    "        # other options\n",
    "        name, house = line.rstrip().rstrip().split(\",\")\n",
    "        print(f\"{name} is in {house}\")"
   ]
  },
  {
   "cell_type": "code",
   "execution_count": null,
   "metadata": {},
   "outputs": [],
   "source": [
    "students = []\n",
    "\n",
    "with open(\"students.csv\",\"r\") as file:\n",
    "    for line in file:\n",
    "        name, house =  line.rstrip().split(\",\")\n",
    "        student = {}\n",
    "        student[\"name\"] = name\n",
    "        student[\"house\"] = house\n",
    "        # student{\"name\": name, \"house\": house}\n",
    "        students.append(student)\n",
    "\n",
    "# print out message\n",
    "for student in students:\n",
    "    # The double quote is already used in f-string\n",
    "    # single quote should be applied to distinguish to avoid confusion of python\n",
    "    print(f\"{student['name']} is in {student['house']}\")\n",
    "    \n",
    "# print out sorted message - sort by looking specific key\n",
    "def get_name(student):\n",
    "    return student[\"name\"]\n",
    "# 'key = get_name' will automatically call the student in sequence\n",
    "# it is no need to pass key in sorted function\n",
    "for student in sorted(students, key = get_name, reverse = True): # python can pass a function as as an argument\n",
    "    print(f\"{student['name']} is in {student['house']}\")\n",
    "\n",
    "for student in sorted(students, key = lambda student: student[\"name\"]): # lambda function\n",
    "    print(f\"{student['name']} is in {student['house']}\")"
   ]
  },
  {
   "cell_type": "markdown",
   "metadata": {},
   "source": [
    "CSV Lib"
   ]
  },
  {
   "cell_type": "code",
   "execution_count": null,
   "metadata": {},
   "outputs": [],
   "source": [
    "# -- csv.reader\n",
    "import csv\n",
    "\n",
    "students = []\n",
    "\n",
    "with open(\"students2.csv\", \"r\") as file:\n",
    "    reader = csv.reader(file) \n",
    "    for name, home in reader:\n",
    "        students.append({\"name\": name, \"home\": home})\n",
    "\n",
    "for student in sorted(students, key=lambda student: student[\"name\"]):\n",
    "    print(f\"{student['name']} is from {student['home']}\")\n",
    "# strip(): 删除字符串两端（开头和结尾）的空白字符（默认情况下）或者其他指定的字符\n",
    "# rstrip()：这个方法仅删除字符串右端（末尾）的空白字符或其他指定的字符。"
   ]
  },
  {
   "cell_type": "code",
   "execution_count": null,
   "metadata": {},
   "outputs": [],
   "source": [
    "# -- csv.DictReader\n",
    "# the read file should include title for DictReader\n",
    "import csv\n",
    "\n",
    "students = []\n",
    "\n",
    "with open(\"students_dict.csv\", \"r\") as file:\n",
    "    reader = csv.DictReader(file) \n",
    "    # it is very robust toward the change of csv file - swap of columns or add more columns\n",
    "    for row in reader:\n",
    "        students.append({\"name\": row[\"name\"], \"home\": row[\"home\"]})\n",
    "        students.append(row) # this could be also a convenient way\n",
    "\n",
    "for student in sorted(students, key=lambda student: student[\"name\"]):\n",
    "    print(f\"{student['name']} is from {student['home']}\") # '' and \"\" are equal, but be careful about dictint at this case "
   ]
  },
  {
   "cell_type": "code",
   "execution_count": null,
   "metadata": {},
   "outputs": [],
   "source": [
    "# -- csv.writer\n",
    "import csv\n",
    "\n",
    "name = input(\"What's your name? \")\n",
    "home = input(\"What's your home? \")\n",
    "\n",
    "with open(\"students.csv\", \"a\") as file:\n",
    "    writer = csv.writer(file) \n",
    "    writer.writerow([name, home])"
   ]
  },
  {
   "cell_type": "code",
   "execution_count": null,
   "metadata": {},
   "outputs": [],
   "source": [
    "# -- csv.DictWriter\n",
    "import csv\n",
    "\n",
    "name = input(\"What's your name? \")\n",
    "home = input(\"What's your home? \")\n",
    "\n",
    "with open(\"students.csv\", \"a\") as file:\n",
    "    writer = csv.DictWriter(file, fieldnames = [\"name\", \"home\"]) # fieldnames: the tile for the csv\n",
    "    writer.writerow({\"name\": name, \"home\": home})"
   ]
  },
  {
   "cell_type": "markdown",
   "metadata": {},
   "source": [
    "Figure file input and output"
   ]
  },
  {
   "cell_type": "code",
   "execution_count": null,
   "metadata": {},
   "outputs": [],
   "source": [
    "import sys\n",
    "from PIL import Image\n",
    "\n",
    "images = []\n",
    "\n",
    "for arg in sys.argv[1:]:\n",
    "    image = Image.open(arg)\n",
    "    images.append(image)\n",
    "\n",
    "images[0].save(\n",
    "    \"costumes.gif\", save_all=True, append_images=[images[1]], duration = 200, loop = True\n",
    ")"
   ]
  },
  {
   "cell_type": "markdown",
   "metadata": {},
   "source": [
    "To run the provided script in a Jupyter Notebook, you need to make some modifications, as the original script is designed for a command-line interface and uses sys.argv to get command-line arguments. In a Jupyter Notebook, you can't use sys.argv in the same way because it operates in a different environment."
   ]
  },
  {
   "cell_type": "code",
   "execution_count": null,
   "metadata": {},
   "outputs": [],
   "source": [
    "from PIL import Image\n",
    "\n",
    "images = []\n",
    "\n",
    "# Directly specify the paths to the GIF files\n",
    "file_paths = ['costume1.gif', 'costume2.gif']\n",
    "\n",
    "for path in file_paths:\n",
    "    image = Image.open(path)\n",
    "    images.append(image)\n",
    "\n",
    "# Save the combined GIF\n",
    "images[0].save(\"costumes.gif\", save_all=True, append_images=images[1:], duration=200, loop=0)"
   ]
  }
 ],
 "metadata": {
  "kernelspec": {
   "display_name": "base",
   "language": "python",
   "name": "python3"
  },
  "language_info": {
   "codemirror_mode": {
    "name": "ipython",
    "version": 3
   },
   "file_extension": ".py",
   "mimetype": "text/x-python",
   "name": "python",
   "nbconvert_exporter": "python",
   "pygments_lexer": "ipython3",
   "version": "3.11.4"
  }
 },
 "nbformat": 4,
 "nbformat_minor": 2
}
