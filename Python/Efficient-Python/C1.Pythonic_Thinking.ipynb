{
 "cells": [
  {
   "cell_type": "markdown",
   "metadata": {},
   "source": [
    "## Item 1: Know Which Version of Python You’re Using"
   ]
  },
  {
   "cell_type": "code",
   "execution_count": 1,
   "metadata": {},
   "outputs": [
    {
     "name": "stdout",
     "output_type": "stream",
     "text": [
      "sys.version_info(major=3, minor=8, micro=10, releaselevel='final', serial=0)\n",
      "3.8.10 (tags/v3.8.10:3d8993a, May  3 2021, 11:48:03) [MSC v.1928 64 bit (AMD64)]\n"
     ]
    }
   ],
   "source": [
    "import sys\n",
    "\n",
    "print(sys.version_info) # python publication \n",
    "print(sys.version)      # interperter info"
   ]
  },
  {
   "cell_type": "markdown",
   "metadata": {},
   "source": [
    "## Item 2: Follow the PEP 8 Style Guide\n",
    "\n",
    "#### Whitespace matters\n",
    "* Use 4 [spaces]\n",
    "* no more than 79 lines in \n",
    "* nest line of long line should be 4 [spaces] indented\n",
    "* ``class`` and ``def`` should be separated by 2 empty lines (top, bottom)\n",
    "* in ``class``, methods should be separated by 1 empty line\n",
    "* ``{key: value,}`` no space before colon\n",
    "* ``var = something`` spaces before and after colon\n",
    "* ``def some(name: str):`` no space before colon in type annotations\n",
    "\n",
    "#### Naming\n",
    "* ``lowercase_underscore`` for functions, variables and attributes\n",
    "* ``_leading_underscore`` for protected instance attributes\n",
    "* ``__double_leading_underscore`` for private instance attributes\n",
    "* ``class CapitalizedWord``\n",
    "* ``ALL_CAPS`` for module-level constants\n",
    "* ``def some(self,):`` for name of first parameter for instance methods in classes\n",
    "* ``def some(cls,)`` for name of first parameter of a class method\n",
    "\n",
    "#### Expressions and Statements\n",
    "\n",
    "Find the one, and/or only one obvious way to do it.\n",
    "\n",
    "* ``if a is not``\n",
    "* ``if not some_list`` to check if empty\n",
    "* ``if some_list`` to check if not empty\n",
    "* no single-line ``if``,``for``,``while``, ``except``. \n",
    "\n",
    "#### Imports\n",
    "* All ``import`` are always on the top\n",
    "* ``from bar import foo`` always use absolute names\n",
    "* ``from . import foo`` for relative import\n",
    "* Section imports in the following order:\n",
    "    1. standard library\n",
    "    2. modules\n",
    "    3. 3rd-party modules\n",
    "    4. your own modules\n"
   ]
  },
  {
   "cell_type": "code",
   "execution_count": 5,
   "metadata": {},
   "outputs": [
    {
     "name": "stdout",
     "output_type": "stream",
     "text": [
      "[104, 101, 108, 108, 111]\n",
      "b'hello'\n",
      "['a', '̀', ' ', 'p', 'r', 'o', 'p', 'o', 's']\n",
      "à propos\n"
     ]
    }
   ],
   "source": [
    "a = b'h\\x65llo'\n",
    "print(list(a))\n",
    "print(a)\n",
    "\n",
    "b = 'a\\u0300 propos'\n",
    "print(list(b))\n",
    "print(b)"
   ]
  },
  {
   "cell_type": "markdown",
   "metadata": {},
   "source": [
    "### Item 4: Prefer Interpolated F-string Over C-style Formate Strings"
   ]
  },
  {
   "cell_type": "markdown",
   "metadata": {},
   "source": [
    "Can put Python expressions into braces:"
   ]
  },
  {
   "cell_type": "code",
   "execution_count": 14,
   "metadata": {},
   "outputs": [
    {
     "name": "stdout",
     "output_type": "stream",
     "text": [
      "avocados\n",
      "#1: Avocados   = 1\n",
      "#2: Bananas    = 2\n",
      "#3: Cherries   = 15\n"
     ]
    }
   ],
   "source": [
    "pantry = [\n",
    "    ('avocados', 1.25),\n",
    "    ('bananas', 2.5),\n",
    "    ('cherries', 15),\n",
    "]\n",
    "\n",
    "for i, (item, count) in enumerate(pantry):\n",
    "    f_string = f'#{i+1}: {item.title():<10s} = {round(count)}'\n",
    "    print(f_string)"
   ]
  },
  {
   "cell_type": "markdown",
   "metadata": {},
   "source": [
    "Can split over multiple lines:"
   ]
  },
  {
   "cell_type": "code",
   "execution_count": 15,
   "metadata": {},
   "outputs": [
    {
     "name": "stdout",
     "output_type": "stream",
     "text": [
      "#1: Avocados   = 1\n",
      "#2: Bananas    = 2\n",
      "#3: Cherries   = 15\n"
     ]
    }
   ],
   "source": [
    "for i, (item, count) in enumerate(pantry):\n",
    "      print(f\"#{i+1}: \"\n",
    "        \n",
    "            f\"{item.title():<10s} = \"\n",
    "            f\"{round(count)}\")"
   ]
  },
  {
   "cell_type": "markdown",
   "metadata": {},
   "source": [
    "Can put variables into braces (nested bracket):"
   ]
  },
  {
   "cell_type": "code",
   "execution_count": 18,
   "metadata": {},
   "outputs": [
    {
     "name": "stdout",
     "output_type": "stream",
     "text": [
      "My number is 1.235\n"
     ]
    }
   ],
   "source": [
    "places = 3\n",
    "number = 1.23456\n",
    "print(f\"My number is {number:.{places}f}\")"
   ]
  },
  {
   "cell_type": "markdown",
   "metadata": {},
   "source": [
    "### Item 5: Write Helper Function Instead of Complex Expressions"
   ]
  },
  {
   "cell_type": "code",
   "execution_count": 19,
   "metadata": {},
   "outputs": [
    {
     "name": "stdout",
     "output_type": "stream",
     "text": [
      "{'red': ['5'], 'blue': ['0'], 'green': ['']}\n"
     ]
    }
   ],
   "source": [
    "from urllib.parse import parse_qs\n",
    "my_values = parse_qs('red=5&blue=0&green=', keep_blank_values=True)\n",
    "\n",
    "print(repr(my_values))"
   ]
  },
  {
   "cell_type": "code",
   "execution_count": 1,
   "metadata": {},
   "outputs": [
    {
     "name": "stdout",
     "output_type": "stream",
     "text": [
      "('chips', 140)\n",
      "('popcorn', 80)\n",
      "('nuts', 190)\n"
     ]
    }
   ],
   "source": [
    "snack_calories = {\n",
    "    \"chips\": 140,\n",
    "    \"popcorn\": 80,\n",
    "    \"nuts\": 190,\n",
    "}\n",
    "\n",
    "items = tuple(snack_calories.items())\n",
    "\n",
    "for i in snack_calories.items():\n",
    "    print(i)"
   ]
  },
  {
   "cell_type": "code",
   "execution_count": 5,
   "metadata": {},
   "outputs": [
    {
     "name": "stdout",
     "output_type": "stream",
     "text": [
      "Aaron\n",
      "John\n",
      "Johnson\n",
      "David\n",
      "Anthony\n",
      "The 1 person is Aaron\n",
      "The 2 person is John\n",
      "The 3 person is Johnson\n",
      "The 4 person is David\n",
      "The 5 person is Anthony\n",
      "The 0 person in the line is Aaron\n",
      "The 1 person in the line is John\n",
      "The 2 person in the line is Johnson\n",
      "The 3 person in the line is David\n",
      "The 4 person in the line is Anthony\n"
     ]
    }
   ],
   "source": [
    "name_list = [\"Aaron\", \"John\", \"Johnson\", \"David\", \"Anthony\"]\n",
    "\n",
    "# use `for` loop over sequence directly\n",
    "for name in name_list:\n",
    "    print(name)\n",
    "\n",
    "# indexing with 'range()'\n",
    "for i in range(len(name_list)):\n",
    "    print(f\"The {i+1} person is {name_list[i]}\")\n",
    "\n",
    "# indexing and loop through at same time  \n",
    "for i, name in enumerate(name_list):\n",
    "    print(f\"The {i} person in the line is {name}\")"
   ]
  },
  {
   "cell_type": "code",
   "execution_count": null,
   "metadata": {},
   "outputs": [],
   "source": []
  }
 ],
 "metadata": {
  "kernelspec": {
   "display_name": "Python 3",
   "language": "python",
   "name": "python3"
  },
  "language_info": {
   "codemirror_mode": {
    "name": "ipython",
    "version": 3
   },
   "file_extension": ".py",
   "mimetype": "text/x-python",
   "name": "python",
   "nbconvert_exporter": "python",
   "pygments_lexer": "ipython3",
   "version": "3.8.10"
  }
 },
 "nbformat": 4,
 "nbformat_minor": 2
}
