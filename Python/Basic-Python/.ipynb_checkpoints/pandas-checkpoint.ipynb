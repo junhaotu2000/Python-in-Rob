{
 "cells": [
  {
   "cell_type": "markdown",
   "id": "16d014a2-c2cc-4222-a5fa-cad8e8dc4e79",
   "metadata": {},
   "source": [
    "# pandas 入门\n",
    "相较于numpy多用于处理同质型的数据结构, pandas更擅长于处理异质性的数据结构"
   ]
  },
  {
   "cell_type": "code",
   "execution_count": 1,
   "id": "65566545-7c81-4f45-8d29-4974f72883d7",
   "metadata": {},
   "outputs": [
    {
     "name": "stdout",
     "output_type": "stream",
     "text": [
      "Requirement already satisfied: pandas in /home/aaron/miniconda3/envs/robodiff/lib/python3.9/site-packages (2.2.2)\n",
      "Requirement already satisfied: tzdata>=2022.7 in /home/aaron/miniconda3/envs/robodiff/lib/python3.9/site-packages (from pandas) (2024.1)\n",
      "Requirement already satisfied: pytz>=2020.1 in /home/aaron/miniconda3/envs/robodiff/lib/python3.9/site-packages (from pandas) (2024.1)\n",
      "Requirement already satisfied: numpy>=1.22.4 in /home/aaron/miniconda3/envs/robodiff/lib/python3.9/site-packages (from pandas) (1.23.3)\n",
      "Requirement already satisfied: python-dateutil>=2.8.2 in /home/aaron/miniconda3/envs/robodiff/lib/python3.9/site-packages (from pandas) (2.9.0)\n",
      "Requirement already satisfied: six>=1.5 in /home/aaron/miniconda3/envs/robodiff/lib/python3.9/site-packages (from python-dateutil>=2.8.2->pandas) (1.16.0)\n"
     ]
    }
   ],
   "source": [
    "!pip install pandas"
   ]
  },
  {
   "cell_type": "markdown",
   "id": "2dad413c-01f7-4975-accb-3fd2d7d06aed",
   "metadata": {},
   "source": [
    "常见的导入："
   ]
  },
  {
   "cell_type": "code",
   "execution_count": 4,
   "id": "f91be3ab-643f-409a-a1ce-8340f0c5a983",
   "metadata": {},
   "outputs": [],
   "source": [
    "import pandas as pd4\n",
    "from pandas import Series, DataFrame"
   ]
  },
  {
   "cell_type": "code",
   "execution_count": 5,
   "id": "788ebc49-8591-4daa-a763-5beff92baeaa",
   "metadata": {},
   "outputs": [],
   "source": [
    "obj = pd.Series([4, 7, -5, 3])"
   ]
  },
  {
   "cell_type": "code",
   "execution_count": 10,
   "id": "9b115ba6-4044-4030-bc83-1649e346e2db",
   "metadata": {},
   "outputs": [
    {
     "data": {
      "text/plain": [
       "array([ 4,  7, -5,  3])"
      ]
     },
     "execution_count": 10,
     "metadata": {},
     "output_type": "execute_result"
    }
   ],
   "source": [
    "obj.values"
   ]
  },
  {
   "cell_type": "code",
   "execution_count": 11,
   "id": "41022694-72a3-4865-8bd9-6d4623644751",
   "metadata": {},
   "outputs": [
    {
     "data": {
      "text/plain": [
       "RangeIndex(start=0, stop=4, step=1)"
      ]
     },
     "execution_count": 11,
     "metadata": {},
     "output_type": "execute_result"
    }
   ],
   "source": [
    "obj.index"
   ]
  },
  {
   "cell_type": "code",
   "execution_count": 12,
   "id": "43edc6ae-7d59-41e0-b607-77069449113d",
   "metadata": {},
   "outputs": [],
   "source": [
    "obj2 = pd.Series([4, 7, -5, 3], index = ['d', 'b', 'a', 'c'])"
   ]
  },
  {
   "cell_type": "code",
   "execution_count": 13,
   "id": "b4e6da64-d721-4e8d-807f-af68962c7c0d",
   "metadata": {},
   "outputs": [
    {
     "data": {
      "text/plain": [
       "d    4\n",
       "b    7\n",
       "a   -5\n",
       "c    3\n",
       "dtype: int64"
      ]
     },
     "execution_count": 13,
     "metadata": {},
     "output_type": "execute_result"
    }
   ],
   "source": [
    "obj2"
   ]
  },
  {
   "cell_type": "code",
   "execution_count": 15,
   "id": "787296c5-c6f4-4b7b-8bc1-be1bfdbcc100",
   "metadata": {},
   "outputs": [
    {
     "data": {
      "text/plain": [
       "Index(['d', 'b', 'a', 'c'], dtype='object')"
      ]
     },
     "execution_count": 15,
     "metadata": {},
     "output_type": "execute_result"
    }
   ],
   "source": [
    "obj2.index"
   ]
  },
  {
   "cell_type": "code",
   "execution_count": 16,
   "id": "dec8da58-df02-4584-bee9-83c7ccf46d65",
   "metadata": {},
   "outputs": [
    {
     "data": {
      "text/plain": [
       "-5"
      ]
     },
     "execution_count": 16,
     "metadata": {},
     "output_type": "execute_result"
    }
   ],
   "source": [
    "obj2['a']"
   ]
  },
  {
   "cell_type": "code",
   "execution_count": 17,
   "id": "b6fda6ae-7740-4a4b-a21e-f49fb8a4f0d8",
   "metadata": {},
   "outputs": [
    {
     "data": {
      "text/plain": [
       "a   -5\n",
       "b    7\n",
       "c    3\n",
       "dtype: int64"
      ]
     },
     "execution_count": 17,
     "metadata": {},
     "output_type": "execute_result"
    }
   ],
   "source": [
    "obj2[['a', 'b', 'c']]"
   ]
  },
  {
   "cell_type": "code",
   "execution_count": null,
   "id": "e7094209-6ba8-4a9d-810c-fe5839a27813",
   "metadata": {},
   "outputs": [],
   "source": []
  }
 ],
 "metadata": {
  "kernelspec": {
   "display_name": "Python 3 (ipykernel)",
   "language": "python",
   "name": "python3"
  },
  "language_info": {
   "codemirror_mode": {
    "name": "ipython",
    "version": 3
   },
   "file_extension": ".py",
   "mimetype": "text/x-python",
   "name": "python",
   "nbconvert_exporter": "python",
   "pygments_lexer": "ipython3",
   "version": "3.9.18"
  }
 },
 "nbformat": 4,
 "nbformat_minor": 5
}
