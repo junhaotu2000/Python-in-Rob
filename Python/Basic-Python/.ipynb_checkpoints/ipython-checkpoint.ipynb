{
 "cells": [
  {
   "cell_type": "code",
   "execution_count": 1,
   "id": "dc8623bb-ddbe-4e53-8988-61068e84346b",
   "metadata": {},
   "outputs": [
    {
     "data": {
      "text/plain": [
       "'/home/aaron/Desktop/Python-in-Rob/Python/Basic-Python'"
      ]
     },
     "execution_count": 1,
     "metadata": {},
     "output_type": "execute_result"
    }
   ],
   "source": [
    "%pwd"
   ]
  },
  {
   "cell_type": "code",
   "execution_count": 2,
   "id": "9cf77ff0-0d89-4a11-9580-14dbe8f63409",
   "metadata": {},
   "outputs": [],
   "source": [
    "import numpy as np"
   ]
  },
  {
   "cell_type": "code",
   "execution_count": 3,
   "id": "15219ca0-9b17-4cb1-85b7-3aad123a1312",
   "metadata": {},
   "outputs": [],
   "source": [
    "b = (np.random.rand(5)).tolist()"
   ]
  },
  {
   "cell_type": "code",
   "execution_count": 4,
   "id": "40fbe4ae-cbf9-4e16-9621-10ed8ebeaa3f",
   "metadata": {},
   "outputs": [
    {
     "name": "stdout",
     "output_type": "stream",
     "text": [
      "[0.9441293126701225, 0.7797514973589225, 0.0916996644590935, 0.8617352383448701, 0.7920780726032415]\n"
     ]
    }
   ],
   "source": [
    "print(b)"
   ]
  },
  {
   "cell_type": "code",
   "execution_count": 5,
   "id": "2ba89eba-1454-49fb-b005-2477c721e500",
   "metadata": {},
   "outputs": [
    {
     "name": "stdout",
     "output_type": "stream",
     "text": [
      "None\n"
     ]
    }
   ],
   "source": [
    "print(b.insert(1,2))"
   ]
  },
  {
   "cell_type": "code",
   "execution_count": 6,
   "id": "ee25d94b-74e9-44e9-a33d-de3cd0311d19",
   "metadata": {},
   "outputs": [
    {
     "name": "stdout",
     "output_type": "stream",
     "text": [
      "[0.9441293126701225, 2, 0.7797514973589225, 0.0916996644590935, 0.8617352383448701, 0.7920780726032415]\n"
     ]
    }
   ],
   "source": [
    "print(b)"
   ]
  },
  {
   "cell_type": "code",
   "execution_count": 7,
   "id": "f6fa05a8-5425-42da-b6e3-a30564beafaf",
   "metadata": {},
   "outputs": [
    {
     "name": "stdout",
     "output_type": "stream",
     "text": [
      "<built-in method reverse of list object at 0x7f7020bd30c0>\n"
     ]
    }
   ],
   "source": [
    "print(b.reverse)"
   ]
  },
  {
   "cell_type": "code",
   "execution_count": 8,
   "id": "177cea5a-6735-4172-a671-b6aee8d24dc0",
   "metadata": {},
   "outputs": [],
   "source": [
    "b = b.reverse"
   ]
  },
  {
   "cell_type": "code",
   "execution_count": 9,
   "id": "aac1ca92-cd03-47ce-aabb-3a13c9ab0d76",
   "metadata": {},
   "outputs": [
    {
     "name": "stdout",
     "output_type": "stream",
     "text": [
      "<built-in method reverse of list object at 0x7f7020bd30c0>\n"
     ]
    }
   ],
   "source": [
    "print(b)"
   ]
  },
  {
   "cell_type": "code",
   "execution_count": 10,
   "id": "1045e252-e5ba-446b-8679-071a8af87e9d",
   "metadata": {},
   "outputs": [],
   "source": [
    "class test():\n",
    "    def __init__(self):\n",
    "        print(\"init test class\")"
   ]
  },
  {
   "cell_type": "code",
   "execution_count": 11,
   "id": "99c6e58e-e8a9-493a-b863-6011bad0a40f",
   "metadata": {},
   "outputs": [],
   "source": [
    "b = 'is a string'"
   ]
  },
  {
   "cell_type": "code",
   "execution_count": 14,
   "id": "15109ccf-9489-4f59-b831-2ff78bf4c002",
   "metadata": {},
   "outputs": [],
   "source": [
    "def add_numbers(a, b):\n",
    "    \"\"\"\n",
    "    Add two numbers together\n",
    "    \"\"\"\n",
    "    return a + b"
   ]
  },
  {
   "cell_type": "code",
   "execution_count": 15,
   "id": "a08b2083-25d4-4b78-94a0-f45fd0ee219d",
   "metadata": {},
   "outputs": [
    {
     "data": {
      "text/plain": [
       "\u001b[0;31mSignature:\u001b[0m \u001b[0madd_numbers\u001b[0m\u001b[0;34m(\u001b[0m\u001b[0ma\u001b[0m\u001b[0;34m,\u001b[0m \u001b[0mb\u001b[0m\u001b[0;34m)\u001b[0m\u001b[0;34m\u001b[0m\u001b[0;34m\u001b[0m\u001b[0m\n",
       "\u001b[0;31mDocstring:\u001b[0m Add two numbers together\n",
       "\u001b[0;31mFile:\u001b[0m      /tmp/ipykernel_38531/4177330871.py\n",
       "\u001b[0;31mType:\u001b[0m      function"
      ]
     },
     "metadata": {},
     "output_type": "display_data"
    }
   ],
   "source": [
    "add_numbers?"
   ]
  },
  {
   "cell_type": "code",
   "execution_count": 20,
   "id": "9c2702b4-6407-4bda-ace6-a766dd967423",
   "metadata": {},
   "outputs": [
    {
     "data": {
      "text/plain": [
       "np.__loader__\n",
       "np.load\n",
       "np.loadtxt"
      ]
     },
     "metadata": {},
     "output_type": "display_data"
    }
   ],
   "source": [
    "np.*load*?"
   ]
  },
  {
   "cell_type": "code",
   "execution_count": 21,
   "id": "a9d1e8bd-0173-4369-af9b-2bd15d1fa8c8",
   "metadata": {},
   "outputs": [
    {
     "name": "stdout",
     "output_type": "stream",
     "text": [
      "total 108\n",
      "drwxr-xr-x 16 aaron aaron  4096 Aug 18 20:23  \u001b[0m\u001b[01;34m.\u001b[0m/\n",
      "drwxr-xr-x  4 aaron aaron  4096 Aug 14 23:25  \u001b[01;34m..\u001b[0m/\n",
      "drwxr-xr-x  2 aaron aaron  4096 Aug 18 19:49  \u001b[01;34m.ipynb_checkpoints\u001b[0m/\n",
      "drwxr-xr-x  2 aaron aaron  4096 Aug 14 23:25 \u001b[01;34m'L0. Function, Variables'\u001b[0m/\n",
      "drwxr-xr-x  2 aaron aaron  4096 Aug 14 23:25 \u001b[01;34m'L1. Conditionals'\u001b[0m/\n",
      "drwxr-xr-x  3 aaron aaron  4096 Aug 14 23:25 \u001b[01;34m'L10. Threading and Multiprocessing'\u001b[0m/\n",
      "drwxr-xr-x  2 aaron aaron  4096 Aug 14 23:25 \u001b[01;34m'L11. Network Programming'\u001b[0m/\n",
      "drwxr-xr-x  2 aaron aaron  4096 Aug 14 23:27 \u001b[01;34m'L12. advanced import'\u001b[0m/\n",
      "drwxr-xr-x  3 aaron aaron  4096 Aug 14 23:25 \u001b[01;34m'L2. Loops'\u001b[0m/\n",
      "drwxr-xr-x  2 aaron aaron  4096 Aug 14 23:25 \u001b[01;34m'L3. Exceptions'\u001b[0m/\n",
      "drwxr-xr-x  2 aaron aaron  4096 Aug 14 23:25 \u001b[01;34m'L4. Libraries'\u001b[0m/\n",
      "drwxr-xr-x  4 aaron aaron  4096 Aug 14 23:25 \u001b[01;34m'L5. Unit Tests'\u001b[0m/\n",
      "drwxr-xr-x  2 aaron aaron  4096 Aug 14 23:25 \u001b[01;34m'L6. File'\u001b[0m/\n",
      "drwxr-xr-x  2 aaron aaron  4096 Aug 14 23:25 \u001b[01;34m'L7. Regular Expression'\u001b[0m/\n",
      "drwxr-xr-x  2 aaron aaron  4096 Aug 14 23:25 \u001b[01;34m'L8. OOP'\u001b[0m/\n",
      "drwxr-xr-x  3 aaron aaron  4096 Aug 14 23:25 \u001b[01;34m'L9. Et Cetera'\u001b[0m/\n",
      "-rw-r--r--  1 aaron aaron 42272 Aug 18 20:23  ipython.ipynb\n"
     ]
    }
   ],
   "source": [
    "%ls -al"
   ]
  },
  {
   "cell_type": "code",
   "execution_count": 22,
   "id": "a3217eaf-5ffc-4e1c-a1d3-26502c315956",
   "metadata": {},
   "outputs": [
    {
     "data": {
      "text/plain": [
       "'is a string'"
      ]
     },
     "execution_count": 22,
     "metadata": {},
     "output_type": "execute_result"
    }
   ],
   "source": [
    "b"
   ]
  },
  {
   "cell_type": "code",
   "execution_count": 42,
   "id": "b03e86bf-bbef-44d7-9d84-ccfe0c5812f8",
   "metadata": {},
   "outputs": [
    {
     "name": "stdout",
     "output_type": "stream",
     "text": [
      "I am in the new file\n"
     ]
    }
   ],
   "source": [
    "# load new.py\n",
    "import os, sys\n",
    "import numpy as np\n",
    "\n",
    "\n",
    "print(\"I am in the new file\")"
   ]
  },
  {
   "cell_type": "code",
   "execution_count": 25,
   "id": "620684d4-f805-4ef6-aa8b-3085eb35a370",
   "metadata": {},
   "outputs": [
    {
     "name": "stderr",
     "output_type": "stream",
     "text": [
      "UsageError: Line magic function `%cpaste` not found.\n"
     ]
    }
   ],
   "source": [
    "%cpaste"
   ]
  },
  {
   "cell_type": "code",
   "execution_count": 29,
   "id": "6fc49195-3aae-4c03-8a16-9ec29705a4ae",
   "metadata": {},
   "outputs": [
    {
     "name": "stdout",
     "output_type": "stream",
     "text": [
      "7.06 s ± 108 ms per loop (mean ± std. dev. of 7 runs, 1 loop each)\n"
     ]
    }
   ],
   "source": [
    "a = np.random.randn(10000,10000)\n",
    "%timeit a @ a"
   ]
  },
  {
   "cell_type": "code",
   "execution_count": 43,
   "id": "bc6f1aac-f066-4a3f-a725-6118d7ac1a39",
   "metadata": {},
   "outputs": [],
   "source": [
    "%matplotlib inline"
   ]
  },
  {
   "cell_type": "code",
   "execution_count": 46,
   "id": "15ccd467-9d98-4948-a6cc-ff9605d3ec49",
   "metadata": {},
   "outputs": [
    {
     "data": {
      "image/png": "[encoded data removed]",
      "text/plain": [
       "<Figure size 640x480 with 1 Axes>"
      ]
     },
     "metadata": {},
     "output_type": "display_data"
    }
   ],
   "source": [
    "import matplotlib.pyplot as plt\n",
    "plt.plot(np.random.randn(50).cumsum())\n",
    "plt.show()"
   ]
  },
  {
   "cell_type": "code",
   "execution_count": 47,
   "id": "a1147612-f773-409b-a343-2b2ce9096d2a",
   "metadata": {},
   "outputs": [
    {
     "data": {
      "text/plain": [
       "\u001b[0;31mSignature:\u001b[0m \u001b[0mnp\u001b[0m\u001b[0;34m.\u001b[0m\u001b[0mcumsum\u001b[0m\u001b[0;34m(\u001b[0m\u001b[0ma\u001b[0m\u001b[0;34m,\u001b[0m \u001b[0maxis\u001b[0m\u001b[0;34m=\u001b[0m\u001b[0;32mNone\u001b[0m\u001b[0;34m,\u001b[0m \u001b[0mdtype\u001b[0m\u001b[0;34m=\u001b[0m\u001b[0;32mNone\u001b[0m\u001b[0;34m,\u001b[0m \u001b[0mout\u001b[0m\u001b[0;34m=\u001b[0m\u001b[0;32mNone\u001b[0m\u001b[0;34m)\u001b[0m\u001b[0;34m\u001b[0m\u001b[0;34m\u001b[0m\u001b[0m\n",
       "\u001b[0;31mDocstring:\u001b[0m\n",
       "Return the cumulative sum of the elements along a given axis.\n",
       "\n",
       "Parameters\n",
       "----------\n",
       "a : array_like\n",
       "    Input array.\n",
       "axis : int, optional\n",
       "    Axis along which the cumulative sum is computed. The default\n",
       "    (None) is to compute the cumsum over the flattened array.\n",
       "dtype : dtype, optional\n",
       "    Type of the returned array and of the accumulator in which the\n",
       "    elements are summed.  If `dtype` is not specified, it defaults\n",
       "    to the dtype of `a`, unless `a` has an integer dtype with a\n",
       "    precision less than that of the default platform integer.  In\n",
       "    that case, the default platform integer is used.\n",
       "out : ndarray, optional\n",
       "    Alternative output array in which to place the result. It must\n",
       "    have the same shape and buffer length as the expected output\n",
       "    but the type will be cast if necessary. See :ref:`ufuncs-output-type` for\n",
       "    more details.\n",
       "\n",
       "Returns\n",
       "-------\n",
       "cumsum_along_axis : ndarray.\n",
       "    A new array holding the result is returned unless `out` is\n",
       "    specified, in which case a reference to `out` is returned. The\n",
       "    result has the same size as `a`, and the same shape as `a` if\n",
       "    `axis` is not None or `a` is a 1-d array.\n",
       "\n",
       "See Also\n",
       "--------\n",
       "sum : Sum array elements.\n",
       "trapz : Integration of array values using the composite trapezoidal rule.\n",
       "diff : Calculate the n-th discrete difference along given axis.\n",
       "\n",
       "Notes\n",
       "-----\n",
       "Arithmetic is modular when using integer types, and no error is\n",
       "raised on overflow.\n",
       "\n",
       "``cumsum(a)[-1]`` may not be equal to ``sum(a)`` for floating-point\n",
       "values since ``sum`` may use a pairwise summation routine, reducing\n",
       "the roundoff-error. See `sum` for more information.\n",
       "\n",
       "Examples\n",
       "--------\n",
       ">>> a = np.array([[1,2,3], [4,5,6]])\n",
       ">>> a\n",
       "array([[1, 2, 3],\n",
       "       [4, 5, 6]])\n",
       ">>> np.cumsum(a)\n",
       "array([ 1,  3,  6, 10, 15, 21])\n",
       ">>> np.cumsum(a, dtype=float)     # specifies type of output value(s)\n",
       "array([  1.,   3.,   6.,  10.,  15.,  21.])\n",
       "\n",
       ">>> np.cumsum(a,axis=0)      # sum over rows for each of the 3 columns\n",
       "array([[1, 2, 3],\n",
       "       [5, 7, 9]])\n",
       ">>> np.cumsum(a,axis=1)      # sum over columns for each of the 2 rows\n",
       "array([[ 1,  3,  6],\n",
       "       [ 4,  9, 15]])\n",
       "\n",
       "``cumsum(b)[-1]`` may not be equal to ``sum(b)``\n",
       "\n",
       ">>> b = np.array([1, 2e-9, 3e-9] * 1000000)\n",
       ">>> b.cumsum()[-1]\n",
       "1000000.0050045159\n",
       ">>> b.sum()\n",
       "1000000.0050000029\n",
       "\u001b[0;31mFile:\u001b[0m      ~/miniconda3/envs/robodiff/lib/python3.9/site-packages/numpy/core/fromnumeric.py\n",
       "\u001b[0;31mType:\u001b[0m      function"
      ]
     },
     "metadata": {},
     "output_type": "display_data"
    }
   ],
   "source": [
    "np.cumsum?"
   ]
  },
  {
   "cell_type": "code",
   "execution_count": 48,
   "id": "93d5c4f6-b2cc-42ec-b859-8fad5733df64",
   "metadata": {},
   "outputs": [],
   "source": [
    "a = np.random.randn(10,10)"
   ]
  },
  {
   "cell_type": "code",
   "execution_count": 49,
   "id": "918db061-8a5b-45dc-86f0-4caa5f535360",
   "metadata": {},
   "outputs": [
    {
     "data": {
      "text/plain": [
       "array([[-1.3831729 , -1.53408336, -1.52197306, -0.61929733,  1.46616726,\n",
       "        -0.93086357,  2.49866553,  1.52832957, -0.41415947, -0.48335045],\n",
       "       [ 1.00523509, -0.69078347, -1.45216207, -0.37961103, -0.98041055,\n",
       "        -1.39331868, -1.56389723,  0.70148373,  1.09395817,  0.69785548],\n",
       "       [-0.3417648 , -2.17961249,  1.23268892, -1.02769676,  1.44736571,\n",
       "         0.34957253, -1.23743739, -2.35639699, -0.34722671, -0.57428413],\n",
       "       [ 0.35389842, -1.93867038, -0.02561806,  0.18856666, -0.28968293,\n",
       "         0.2424685 , -0.96036438,  1.05762059, -1.52007565, -1.29252738],\n",
       "       [ 0.63763164, -1.88931466, -1.44314349, -1.18537674,  1.25918659,\n",
       "        -0.09111777,  0.56059545,  0.6364263 , -0.00907875,  1.4245817 ],\n",
       "       [-0.19281994, -0.17347351, -0.3795419 ,  0.68182781, -0.20837961,\n",
       "         0.45504949,  0.40036032,  1.06086906, -0.06035214,  0.3357253 ],\n",
       "       [-0.61605498, -1.0053776 , -2.01072583,  0.99915259, -1.09487128,\n",
       "         1.57255404,  0.75758456, -0.74172747, -1.18192916, -0.28677141],\n",
       "       [-0.37411521, -1.03545255, -1.21006881, -0.77654316,  0.89569693,\n",
       "        -1.14729472, -1.41269362,  1.11040724, -0.20056232,  0.53979709],\n",
       "       [-0.79204288,  0.09887474, -0.80375157,  1.01040657,  0.77098144,\n",
       "        -0.63454444,  0.37712921, -1.41370024,  1.22789867, -0.99473997],\n",
       "       [-1.19568388, -0.59381475,  0.97520557,  1.925544  , -1.16415689,\n",
       "        -0.2484374 , -0.76576413,  0.13119777, -0.38465526,  0.4866891 ]])"
      ]
     },
     "execution_count": 49,
     "metadata": {},
     "output_type": "execute_result"
    }
   ],
   "source": [
    "a"
   ]
  },
  {
   "cell_type": "code",
   "execution_count": 50,
   "id": "14b05423-ab67-4963-b538-e398d1908596",
   "metadata": {},
   "outputs": [
    {
     "name": "stdout",
     "output_type": "stream",
     "text": [
      "[[ -1.3831729   -1.53408336  -1.52197306  -0.61929733   1.46616726\n",
      "   -0.93086357   2.49866553   1.52832957  -0.41415947  -0.48335045]\n",
      " [ -0.37793781  -2.22486684  -2.97413513  -0.99890837   0.48575671\n",
      "   -2.32418226   0.9347683    2.22981331   0.6797987    0.21450503]\n",
      " [ -0.71970262  -4.40447932  -1.74144622  -2.02660513   1.93312242\n",
      "   -1.97460972  -0.30266909  -0.12658368   0.332572    -0.3597791 ]\n",
      " [ -0.3658042   -6.3431497   -1.76706427  -1.83803847   1.64343948\n",
      "   -1.73214122  -1.26303348   0.93103691  -1.18750366  -1.65230648]\n",
      " [  0.27182744  -8.23246436  -3.21020777  -3.0234152    2.90262608\n",
      "   -1.82325899  -0.70243803   1.56746321  -1.1965824   -0.22772477]\n",
      " [  0.0790075   -8.40593788  -3.58974967  -2.34158739   2.69424647\n",
      "   -1.3682095   -0.3020777    2.62833227  -1.25693455   0.10800052]\n",
      " [ -0.53704748  -9.41131547  -5.6004755   -1.3424348    1.59937519\n",
      "    0.20434453   0.45550686   1.8866048   -2.43886371  -0.17877089]\n",
      " [ -0.91116269 -10.44676802  -6.81054431  -2.11897797   2.49507212\n",
      "   -0.94295018  -0.95718677   2.99701204  -2.63942602   0.3610262 ]\n",
      " [ -1.70320557 -10.34789328  -7.61429588  -1.1085714    3.26605356\n",
      "   -1.57749463  -0.58005756   1.5833118   -1.41152736  -0.63371377]\n",
      " [ -2.89888945 -10.94170804  -6.63909031   0.8169726    2.10189666\n",
      "   -1.82593203  -1.34582169   1.71450957  -1.79618261  -0.14702467]]\n"
     ]
    }
   ],
   "source": [
    "print(np.cumsum(a,0))"
   ]
  },
  {
   "cell_type": "code",
   "execution_count": 59,
   "id": "d59c9ca8-92ca-45d0-8542-a0e06966e028",
   "metadata": {},
   "outputs": [
    {
     "name": "stdout",
     "output_type": "stream",
     "text": [
      "I am in the new file\n"
     ]
    }
   ],
   "source": [
    "# %load new.py\n",
    "import os, sys\n",
    "import numpy as np\n",
    "\n",
    "\n",
    "print(\"I am in the new file\")"
   ]
  }
 ],
 "metadata": {
  "kernelspec": {
   "display_name": "Python 3 (ipykernel)",
   "language": "python",
   "name": "python3"
  },
  "language_info": {
   "codemirror_mode": {
    "name": "ipython",
    "version": 3
   },
   "file_extension": ".py",
   "mimetype": "text/x-python",
   "name": "python",
   "nbconvert_exporter": "python",
   "pygments_lexer": "ipython3",
   "version": "3.9.18"
  }
 },
 "nbformat": 4,
 "nbformat_minor": 5
}
