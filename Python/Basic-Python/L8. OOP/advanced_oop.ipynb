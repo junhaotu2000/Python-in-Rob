{
 "cells": [
  {
   "cell_type": "code",
   "execution_count": 2,
   "metadata": {},
   "outputs": [
    {
     "name": "stdout",
     "output_type": "stream",
     "text": [
      "hello, I am a dog, my type is 京巴\n",
      "hello, I am a dog, my type is 京巴\n",
      "京巴\n"
     ]
    }
   ],
   "source": [
    "class Dog:\n",
    "    '''公共属性: 参数存在类的内存上，所有实例共享，一个变化全部变化'''\n",
    "    d_type = \"京巴\" # 属性 (attribute)，类属性，类变量\n",
    "    d_size = \"large\"\n",
    "   \n",
    "    def get_type(self): # 方法（method）， self 代表实例本身\n",
    "        print(\"hello, I am a dog, my type is\", self.d_type)\n",
    "        \n",
    "    def get_size(self): # 方法（method）， self 代表实例本身\n",
    "        print(\"my size is\", self.d_size)\n",
    "        \n",
    "# 生成一个实例\n",
    "d = Dog() \n",
    "d2 = Dog()\n",
    "\n",
    "# 实例.方法\n",
    "d.get_type()\n",
    "d2.get_type()\n",
    "\n",
    "# 实例.属性\n",
    "print(d.d_type)\n"
   ]
  },
  {
   "cell_type": "code",
   "execution_count": 3,
   "metadata": {},
   "outputs": [],
   "source": [
    "class Dog:\n",
    "    '''公共属性: 参数存在类的内存上，所有实例共享，一个变化全部变化'''\n",
    "    d_type = \"京巴\" # 属性 (attribute)，类属性，类变量\n",
    "    d_size = \"large\"\n",
    "    \n",
    "    '''初始化方法'''\n",
    "    # NOTE: S3: init an instance on the returned address\n",
    "    def __init__(self, name, age):\n",
    "        # NOTE: S2: return address and assigned value into class\n",
    "        # self 相当于一个指针，指针指向实例化指针存到的内存空间\n",
    "        # 这样才能跨function调用同一组参数\n",
    "        self.name = name\n",
    "        self.age = age\n",
    "   \n",
    "    def get_type(self): # 方法（method）， self 代表实例本身\n",
    "        print(\"hello, I am a dog, my type is\", self.d_type)\n",
    "        \n",
    "    def get_size(self): # 方法（method）， self 代表实例本身\n",
    "        print(\"my size is\", self.d_size)\n",
    "\n",
    "# NOTE: S1: request an address \n",
    "d = Dog(\"JJ\", 5)\n",
    "\n",
    "# 类外也能直接传递参数\n",
    "# 等效于def __init__(self, name, age, sex):\n",
    "d.sex = \"male\""
   ]
  },
  {
   "cell_type": "code",
   "execution_count": 4,
   "metadata": {},
   "outputs": [
    {
     "name": "stdout",
     "output_type": "stream",
     "text": [
      "京巴\n",
      "京巴\n",
      "CN\n",
      "UN\n",
      "JP\n",
      "UN\n"
     ]
    }
   ],
   "source": [
    "# 类属性，类变量\n",
    "'''类属性调用可以通过实例和类本身调用'''\n",
    "print(Dog.d_type)\n",
    "print(d.d_type)\n",
    "\n",
    "# 实例属性，实例变量\n",
    "'''实例属性调用只能通过实例调用'''\n",
    "\n",
    "class People:\n",
    "    # 大量数据共有相同的参数，使其公有参数节约内存\n",
    "    nationality = \"CN\"\n",
    "    def __init__(self, name, age, sex):\n",
    "        self.name = name \n",
    "        self.age = age\n",
    "        self.sex = sex\n",
    "        \n",
    "p1 = People(\"AA\", 22, \"M\")\n",
    "p2 = People(\"JC\", 29, \"M\")\n",
    "p3 = People(\"BA\", 25, \"M\")\n",
    "print(p1.nationality)\n",
    "\n",
    "# 全局更改\n",
    "People.nationality = \"UN\"\n",
    "print(p1.nationality)\n",
    "\n",
    "# 单独更改 - 实例里单独创建一个self.nationality\n",
    "p1.nationality = \"JP\"\n",
    "print(p1.nationality)\n",
    "print(People.nationality)"
   ]
  },
  {
   "cell_type": "markdown",
   "metadata": {},
   "source": [
    "## 类之间的关系\n",
    " - 依赖关系，狗和主人的关系\n",
    " - 关联关系，你和你对象的关系\n",
    " - 组合关系，人的器官，一个组件挂了全挂了\n",
    " - 聚合关系，电脑组件，一个挂了其他还能用\n",
    " - 继承关系"
   ]
  },
  {
   "cell_type": "code",
   "execution_count": 18,
   "metadata": {},
   "outputs": [
    {
     "name": "stdout",
     "output_type": "stream",
     "text": [
      "Dog 小狗's master is Aaron\n"
     ]
    }
   ],
   "source": [
    "# 类之间的依赖关系\n",
    "class Dog:\n",
    "    role = 'dog'\n",
    "    \n",
    "    def __init__(self, name, breed, attack_val, master:object):\n",
    "        self.name = name\n",
    "        self.breed = breed\n",
    "        self.attack_val = attack_val\n",
    "        self.life_val = 100 \n",
    "        self.master = master\n",
    "        \n",
    "    def bite(self, person:object):\n",
    "        person.life_val -= self.attack_val\n",
    "        print(f\"狗{self.name}咬了人{person.name}, 人掉了{self.attack_val}, 还剩血量{person.life_val}\")\n",
    "    \n",
    "    def my_master(self):\n",
    "        print(f\"Dog {self.name}'s master is {self.master.name}\")\n",
    "        \n",
    "class Person:\n",
    "    role = 'person'\n",
    "    \n",
    "    def __init__(self, name, sex, attack_val):\n",
    "        self.name = name\n",
    "        self.attack_val = attack_val\n",
    "        self.life_val = 100\n",
    "        self.sex = sex\n",
    "    \n",
    "    def attack(self, dog:object):\n",
    "        dog.life_val -= self.attack_val\n",
    "        print(f\"人{self.name}打了狗{dog.name}, 狗掉血{self.attack_val}, 还剩血量{dog.life_val}\")\n",
    "        \n",
    "p1 = Person(\"Aaron\", \"M\", 50)\n",
    "p2 = Person(\"John\", \"M\", 40)\n",
    "\n",
    "d1 = Dog('小狗', '二哈', 30, p1)\n",
    "d2 = Dog('大狗', '金毛', 40, p2)\n",
    "\n",
    "d1.my_master()"
   ]
  },
  {
   "cell_type": "code",
   "execution_count": null,
   "metadata": {},
   "outputs": [],
   "source": [
    "# 对象之间的关联关系(类内部直接关联)\n",
    "class Person:\n",
    "    def __init__(self, name, age, sex):\n",
    "        self.name = name\n",
    "        self.age = age\n",
    "        self.sex = sex\n",
    "        # 初始化未知关系, 关系对象未知\n",
    "        self.parnter = None\n",
    "        \n",
    "    def do_private(self):\n",
    "        pass\n",
    "    \n",
    "p1 = Person(\"Aaron\", 24, \"M\")\n",
    "p2 = Person(\"Lili\", 22, \"F\")\n",
    "\n",
    "# 单向绑定单向关联\n",
    "p1.parnter = None\n",
    "p2.parnter = None\n",
    "print(p1.parnter.name, p2.parnter.name)\n",
    "p1.parnter = None\n",
    "p2.parnter = None\n",
    "print(p1.parnter.name, p2.parnter.name)"
   ]
  },
  {
   "cell_type": "code",
   "execution_count": 17,
   "metadata": {},
   "outputs": [
    {
     "name": "stdout",
     "output_type": "stream",
     "text": [
      "Aaron and Lili are couple\n",
      "The couple of Lili is Aaron\n",
      "Lili has no couple\n"
     ]
    }
   ],
   "source": [
    "# 对象之间的关联关系(新类用于关联)\n",
    "class Person:\n",
    "    def __init__(self, name, age, sex, relation:object):\n",
    "        self.name = name\n",
    "        self.age = age\n",
    "        self.sex = sex\n",
    "        self.relation = relation\n",
    "        \n",
    "    def do_private(self):\n",
    "        pass\n",
    "\n",
    "class Relationship:\n",
    "    \"\"\"保存couple之间的对象关系\"\"\"\n",
    "    def __init__(self):\n",
    "        # 初始化不直接传入的参数\n",
    "        self.couple = []\n",
    "        \n",
    "    def make_couple(self, obj1, obj2):\n",
    "        self.couple = [obj1, obj2]\n",
    "        print(f\"{obj1.name} and {obj2.name} are couple\")\n",
    "    \n",
    "    def get_my_parnter(self, obj):\n",
    "        try: \n",
    "            couple = obj.relation.couple[0].name if obj.name == obj.relation.couple[1].name else obj.relation.couple[1].name\n",
    "            print(f\"The couple of {obj.name} is {couple}\")\n",
    "        except IndexError:\n",
    "            print(f\"{obj.name} has no couple\")\n",
    "            \n",
    "    def break_up(self):\n",
    "        self.couple.clear()\n",
    "        \n",
    "    \n",
    "# 双向绑定双向关联\n",
    "relation_obj = Relationship()\n",
    "p1 = Person(\"Aaron\", 24, \"M\", relation_obj)\n",
    "p2 = Person(\"Lili\", 22, \"F\", relation_obj)\n",
    "relation_obj.make_couple(p1, p2)\n",
    "p2.relation.get_my_parnter(p2)\n",
    "p2.relation.break_up()\n",
    "p2.relation.get_my_parnter(p2)"
   ]
  },
  {
   "cell_type": "code",
   "execution_count": 2,
   "metadata": {},
   "outputs": [
    {
     "name": "stdout",
     "output_type": "stream",
     "text": [
      "狗小狗咬了人Aaron, 人掉了30, 还剩血量70\n",
      "小狗 被 枪攻击，掉血100,还剩血量0\n"
     ]
    }
   ],
   "source": [
    "class Dog:\n",
    "    role = 'dog'\n",
    "    \n",
    "    def __init__(self, name, breed, attack_val, master:object):\n",
    "        self.name = name\n",
    "        self.breed = breed\n",
    "        self.attack_val = attack_val\n",
    "        self.life_val = 100 \n",
    "        self.master = master\n",
    "        \n",
    "    def bite(self, person:object):\n",
    "        person.life_val -= self.attack_val\n",
    "        print(f\"狗{self.name}咬了人{person.name}, 人掉了{self.attack_val}, 还剩血量{person.life_val}\")\n",
    "    \n",
    "    def my_master(self):\n",
    "        print(f\"Dog {self.name}'s master is {self.master.name}\")\n",
    "\n",
    "# 这是一个组件，不能独立运行\n",
    "# 组件本身独立，但又不能自己运行，必须跟宿主组合在一起\n",
    "class Weapon:\n",
    "    role = 'weapon'\n",
    "    \n",
    "    def dog_stick(self, obj):\n",
    "        self.name = \"打狗棒\"\n",
    "        self.attack_val = 40\n",
    "        obj.life_val -= self.attack_val\n",
    "        self.print_log(obj)\n",
    "        \n",
    "    def knife(self, obj):\n",
    "        self.name = \"屠龙刀\"\n",
    "        self.attack_val = 80\n",
    "        obj.life_val -= self.attack_val\n",
    "        self.print_log(obj)\n",
    "        \n",
    "    def gun(self, obj):\n",
    "        self.name = \"枪\"\n",
    "        self.attack_val = 100\n",
    "        obj.life_val -= self.attack_val\n",
    "        self.print_log(obj)\n",
    "        \n",
    "    def print_log(self, obj):\n",
    "        print(f\"{obj.name} 被 {self.name}攻击，掉血{self.attack_val},还剩血量{obj.life_val}\")\n",
    "        \n",
    "class Person:\n",
    "    role = 'person'\n",
    "    \n",
    "    def __init__(self, name, sex, attack_val):\n",
    "        self.name = name\n",
    "        self.attack_val = attack_val\n",
    "        self.life_val = 100\n",
    "        self.sex = sex\n",
    "        # 武器是人持有的属性，一般不会在main里初始化再传递\n",
    "        self.weapon = Weapon() # 直接实例化\n",
    "    \n",
    "    def attack(self, dog:object):\n",
    "        dog.life_val -= self.attack_val\n",
    "        print(f\"人{self.name}打了狗{dog.name}, 狗掉血{self.attack_val}, 还剩血量{dog.life_val}\")\n",
    "        \n",
    "p1 = Person(\"Aaron\", \"M\", 50)\n",
    "d1 = Dog('小狗', '二哈', 30, p1)\n",
    "\n",
    "d1.bite(p1)\n",
    "p1.weapon.gun(d1)"
   ]
  },
  {
   "cell_type": "code",
   "execution_count": null,
   "metadata": {},
   "outputs": [],
   "source": [
    "# 继承\n",
    "# 父类\n",
    "class Animal:\n",
    "    a_type = \"哺乳动物\"\n",
    "    \n",
    "    def __init__(self, name, age, sex):\n",
    "        self.name = name\n",
    "        self.age = age\n",
    "        self.sex = sex\n",
    "    \n",
    "    def eat(self):\n",
    "        print(f\"{self.name} is eating ...\")\n",
    "\n",
    "# 子类1\n",
    "class Person1(Animal): # 完全继承animal初始化\n",
    "    a_type = \"哺乳高等动物\"\n",
    "    \n",
    "    def talk(self):\n",
    "        print(f\"{self.name} is talking ...\")\n",
    "    \n",
    "    # 完全重构\n",
    "    def eat(self):\n",
    "        print(\"人在优雅的吃 ...\")\n",
    "        \n",
    "# 子类2\n",
    "class Person2(Animal): \n",
    "    a_type = \"哺乳高等动物\"\n",
    "    \n",
    "    # 继承animal初始化 + 新家参数\n",
    "    def __init__(self, name, age, sex, hobby):\n",
    "        # Animal.__init__(name, age, sex)\n",
    "        # super().__init__(name, age, sex)\n",
    "        self.hobby = hobby\n",
    "    \n",
    "    def talk(self):\n",
    "        print(f\"{self.name} is talking ...\")\n",
    "    \n",
    "    # 完全重构\n",
    "    def eat(self):\n",
    "        # Animal.eat(self)\n",
    "        # super().eat()\n",
    "        print(\"人在优雅的吃 ...\")"
   ]
  },
  {
   "cell_type": "code",
   "execution_count": 4,
   "metadata": {},
   "outputs": [
    {
     "name": "stdout",
     "output_type": "stream",
     "text": [
      "孙悟空在耍金箍棒 ...\n",
      "神仙都会飞 ...\n",
      "神仙在打架 ...\n"
     ]
    }
   ],
   "source": [
    "# 多继承\n",
    "class ShenXianBase:\n",
    "    def fight(self):\n",
    "        print(\"神仙在打架 ...\")\n",
    "\n",
    "class ShenXian(ShenXianBase):\n",
    "    def fly(self):\n",
    "        print(\"神仙都会飞 ...\")\n",
    "    \n",
    "    def fight(self):\n",
    "        print(\"神仙在打架 ...\")\n",
    "\n",
    "class Base:\n",
    "    def fight(self):\n",
    "        print(\"动物在打架 ...\")\n",
    "\n",
    "class MonkeyBase(Base):\n",
    "    def fight(self):\n",
    "        print(\"猿猴在打架 ...\")\n",
    "\n",
    "class Monkey(MonkeyBase):\n",
    "    def eat_peach(self):\n",
    "        print(\"猴子都喜欢吃桃子 ...\")\n",
    "    \n",
    "    def fight(self):\n",
    "        print(\"猴子在打架 ...\")\n",
    "\n",
    "# 多继承有从左到右的继承顺序(深度优先搜索 - 非菱形继承)\n",
    "# \n",
    "class MonkeyKing(ShenXian, Monkey):\n",
    "    def play_golden_stick(self):\n",
    "        print(\"孙悟空在耍金箍棒 ...\")\n",
    "        \n",
    "m = MonkeyKing()\n",
    "m.play_golden_stick()\n",
    "m.fly()\n",
    "# 多继承有从左到右的继承顺序\n",
    "m.fight()"
   ]
  },
  {
   "cell_type": "code",
   "execution_count": 6,
   "metadata": {},
   "outputs": [
    {
     "name": "stdout",
     "output_type": "stream",
     "text": [
      "孙悟空在耍金箍棒 ...\n",
      "神仙都会飞 ...\n",
      "神仙在打架 ...\n",
      "[<class '__main__.MonkeyKing'>, <class '__main__.ShenXian'>, <class '__main__.ShenXianBase'>, <class '__main__.Monkey'>, <class '__main__.MonkeyBase'>, <class '__main__.Base'>, <class 'object'>]\n"
     ]
    }
   ],
   "source": [
    "class Base:\n",
    "    def fight(self):\n",
    "        print(\"动物在打架 ...\")\n",
    "        \n",
    "class ShenXianBase(Base):\n",
    "    def fight(self):\n",
    "        print(\"神仙在打架 ...\")\n",
    "\n",
    "class ShenXian(ShenXianBase):\n",
    "    def fly(self):\n",
    "        print(\"神仙都会飞 ...\")\n",
    "    \n",
    "    def fight(self):\n",
    "        print(\"神仙在打架 ...\")\n",
    "\n",
    "class MonkeyBase(Base):\n",
    "    def fight(self):\n",
    "        print(\"猿猴在打架 ...\")\n",
    "\n",
    "class Monkey(MonkeyBase):\n",
    "    def eat_peach(self):\n",
    "        print(\"猴子都喜欢吃桃子 ...\")\n",
    "    \n",
    "    def fight(self):\n",
    "        print(\"猴子在打架 ...\")\n",
    "\n",
    "# 多继承有从左到右的继承顺序(深度优先搜索 - 非菱形继承)\n",
    "# 多继承有从左到右的继承顺序(先深度优先再广度优先搜索 - 菱形继承)\n",
    "class MonkeyKing(ShenXian, Monkey):\n",
    "    def play_golden_stick(self):\n",
    "        print(\"孙悟空在耍金箍棒 ...\")\n",
    "        \n",
    "m = MonkeyKing()\n",
    "m.play_golden_stick()\n",
    "m.fly()\n",
    "# 多继承有从左到右的继承顺序\n",
    "m.fight()\n",
    "\n",
    "# 显示继承顺序\n",
    "print(MonkeyKing.mro())"
   ]
  },
  {
   "cell_type": "code",
   "execution_count": 2,
   "metadata": {},
   "outputs": [
    {
     "name": "stdout",
     "output_type": "stream",
     "text": [
      "生命值 还有100\n",
      "被攻击了，生命值为80\n",
      "Aaron is breathing ...\n",
      "Aaron is breathing ...\n"
     ]
    }
   ],
   "source": [
    "class Person(object):\n",
    "    def __init__(self, name, age):\n",
    "        self.name = name # 实例变量\n",
    "        self.age = age\n",
    "        self.__life_val = 100 # 私有属性\n",
    "        \n",
    "    def get_life_val(self):\n",
    "        print(f\"生命值 还有{self.__life_val}\")\n",
    "    \n",
    "    # 私有方法\n",
    "    def __breath(self):\n",
    "        print(f\"{self.name} is breathing ...\")\n",
    "        \n",
    "    def get_attacked(self):\n",
    "        self.__life_val -= 20\n",
    "        print(f\"被攻击了，生命值为{self.__life_val}\")\n",
    "        self.__breath()\n",
    "        return self.__life_val    \n",
    "\n",
    "a = Person(\"Aaron\", 22)\n",
    "a.get_life_val()\n",
    "a.get_attacked()\n",
    "\n",
    "# ._Person__function() 访问私有方法\n",
    "a._Person__breath()\n",
    "\n",
    "# ._Person__var 访问和创建私有属性\n",
    "a._Person__life_val = 10\n",
    "a.__home = \"Nanchang\" # 不能像类属性一样直接添加"
   ]
  },
  {
   "cell_type": "code",
   "execution_count": 3,
   "metadata": {},
   "outputs": [
    {
     "name": "stdout",
     "output_type": "stream",
     "text": [
      "汪汪汪 ...\n",
      "喵喵喵 ...\n"
     ]
    }
   ],
   "source": [
    "# 直观多态\n",
    "class Dog(object):\n",
    "    def sound(self):\n",
    "        print(\"汪汪汪 ...\")\n",
    "        \n",
    "class Cat(object):\n",
    "    def sound(self):\n",
    "        print(\"喵喵喵 ...\")\n",
    "\n",
    "def make_sound(animal_obj):\n",
    "    animal_obj.sound()\n",
    "    \n",
    "dogObj = Dog()\n",
    "catObj = Cat()\n",
    "\n",
    "make_sound(dogObj)\n",
    "make_sound(catObj)"
   ]
  },
  {
   "cell_type": "code",
   "execution_count": 6,
   "metadata": {},
   "outputs": [
    {
     "name": "stdout",
     "output_type": "stream",
     "text": [
      "Show pdf contents!\n",
      "Show Word contents!\n"
     ]
    }
   ],
   "source": [
    "# 通过抽象类实现多态\n",
    "\n",
    "# 抽象类\n",
    "class Document(object):\n",
    "    def __init__(self, name):\n",
    "        self.name = name\n",
    "        \n",
    "    def show(self):\n",
    "        raise NotImplementedError(\"Subclass must implement abstract method\")\n",
    "    \n",
    "# 具体实现需要在子类里定义\n",
    "class Pdf(Document):\n",
    "    def show(self):\n",
    "        return 'Show pdf contents!'\n",
    "    \n",
    "class Word(Document):\n",
    "    def show(self):\n",
    "        return 'Show Word contents!'\n",
    "    \n",
    "pdf_obj = Pdf(\"OOP.pdf\")\n",
    "word_obj = Word(\"contact.doc\")\n",
    "# 非统一接口\n",
    "print(pdf_obj.show(), word_obj.show())\n",
    "\n",
    "# 统一接口\n",
    "objs = [pdf_obj, word_obj]\n",
    "for o in objs:\n",
    "    print(o.show())"
   ]
  },
  {
   "cell_type": "code",
   "execution_count": 11,
   "metadata": {},
   "outputs": [
    {
     "name": "stdout",
     "output_type": "stream",
     "text": [
      "打印类本身：<class '__main__.Dog'>\n",
      "dog stupied dog is eating riben\n"
     ]
    }
   ],
   "source": [
    "class Dog(object):\n",
    "    name  = \"stupied dog\"\n",
    "    \n",
    "    def __init__(self, name):\n",
    "        self.name = name \n",
    "    \n",
    "    # 只能访问类变量，不能访问实例变量\n",
    "    @classmethod \n",
    "    def eat(cls, food):\n",
    "        print(f\"打印类本身：{cls}\")\n",
    "        print(f\"dog {cls.name} is eating {food}\")\n",
    "        \n",
    "Dog.eat(\"riben\")"
   ]
  },
  {
   "cell_type": "code",
   "execution_count": 14,
   "metadata": {},
   "outputs": [
    {
     "name": "stdout",
     "output_type": "stream",
     "text": [
      "Student walking ...\n"
     ]
    }
   ],
   "source": [
    "class Student(object):\n",
    "    role = \"stu\"\n",
    "    \n",
    "    def __init__(self, name):\n",
    "        self.name = name\n",
    "    \n",
    "    # 不能访问类变量和实例变量，与类只有名义上的关系\n",
    "    @staticmethod\n",
    "    def walk():\n",
    "        print(\"Student walking ...\")\n",
    "        \n",
    "s = Student(\"Jack\")\n",
    "# 实例直接调用\n",
    "s.walk()\n",
    "# 类直接调用\n",
    "Student.walk()\n",
    "        "
   ]
  },
  {
   "cell_type": "code",
   "execution_count": 15,
   "metadata": {},
   "outputs": [
    {
     "name": "stdout",
     "output_type": "stream",
     "text": [
      "Aaron is flying ..\n"
     ]
    }
   ],
   "source": [
    "# property\n",
    "class Student(object):\n",
    "    \n",
    "    def __init__(self, name):\n",
    "         self.name = name\n",
    "    \n",
    "    # 像实例变量一样可以直接访问\n",
    "    # 用于使用静态数据进行一些额外操作\n",
    "    @property\n",
    "    def fly(self):\n",
    "        print(self.name, \"is flying ..\")\n",
    "        \n",
    "student = Student(\"Aaron\")\n",
    "student.fly"
   ]
  },
  {
   "cell_type": "code",
   "execution_count": null,
   "metadata": {},
   "outputs": [],
   "source": []
  }
 ],
 "metadata": {
  "kernelspec": {
   "display_name": "base",
   "language": "python",
   "name": "python3"
  },
  "language_info": {
   "codemirror_mode": {
    "name": "ipython",
    "version": 3
   },
   "file_extension": ".py",
   "mimetype": "text/x-python",
   "name": "python",
   "nbconvert_exporter": "python",
   "pygments_lexer": "ipython3",
   "version": "3.12.4"
  }
 },
 "nbformat": 4,
 "nbformat_minor": 2
}
