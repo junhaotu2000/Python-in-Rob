{
 "cells": [
  {
   "cell_type": "markdown",
   "metadata": {},
   "source": [
    "# Basics"
   ]
  },
  {
   "cell_type": "markdown",
   "metadata": {},
   "source": [
    "- () - Parentheses\n",
    "- [] - Square Brackets\n",
    "- {} - Curly Brackets\n",
    "- <> - Angle Brackets\n",
    "- : - Colon\n",
    "- ; - Semicolon\n",
    "- , - Comma\n",
    "- '' - Single Quotes\n",
    "- \"\" - Double Quotes\n",
    "- _ - Underscore\n",
    "- ~ - Tilde\n",
    "- ! - Exclamation Mar\n",
    "- @ - At Sign or At\n",
    "- \\# - Hash\n",
    "- $ - Dollar Sign\n",
    "- % - Percent Sign\n",
    "- ^ - Caret\n",
    "- & - And\n",
    "- \\* - Asterisk\n",
    "- | - Vertical Bar or Pipe\n",
    "- \\ - Backslash\n",
    "- / - Slash\n",
    "- . - Dot\n",
    "- ... - Ellipsis\n",
    "- ~ - tilde"
   ]
  }
 ],
 "metadata": {
  "language_info": {
   "name": "python"
  }
 },
 "nbformat": 4,
 "nbformat_minor": 2
}
