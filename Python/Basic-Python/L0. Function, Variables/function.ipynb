{
 "cells": [
  {
   "cell_type": "markdown",
   "metadata": {},
   "source": [
    "## Python 函数装饰器"
   ]
  },
  {
   "cell_type": "markdown",
   "metadata": {},
   "source": [
    "### 背景知识："
   ]
  },
  {
   "cell_type": "markdown",
   "metadata": {},
   "source": [
    "1. 一切皆对象, 函数本身作为object可以传递和赋值"
   ]
  },
  {
   "cell_type": "code",
   "execution_count": null,
   "metadata": {},
   "outputs": [],
   "source": [
    "def hi(name=\"yasoob\"):\n",
    "    return \"hi \" + name\n",
    "\n",
    "\n",
    "print(hi())\n",
    "# output: 'hi yasoob'\n",
    "\n",
    "# 我们甚至可以将一个函数赋值给一个变量，比如\n",
    "greet = hi\n",
    "# 我们这里没有在使用小括号，因为我们并不是在调用hi函数\n",
    "# 而是在将它放在greet变量里头。我们尝试运行下这个\n",
    "\n",
    "print(greet())\n",
    "# output: 'hi yasoob'\n",
    "\n",
    "# 如果我们删掉旧的hi函数，看看会发生什么！\n",
    "del hi\n",
    "print(hi())\n",
    "# outputs: NameError\n",
    "\n",
    "print(greet())\n",
    "# outputs: 'hi yasoob'"
   ]
  },
  {
   "cell_type": "markdown",
   "metadata": {},
   "source": [
    "2. 在 Python 中我们可以在一个函数中定义另一个函数, 也就是说：我们可以创建嵌套的函数。"
   ]
  },
  {
   "cell_type": "code",
   "execution_count": 6,
   "metadata": {},
   "outputs": [
    {
     "name": "stdout",
     "output_type": "stream",
     "text": [
      "now you are inside the hi() function\n",
      "now you are in the greet() function\n",
      "now you are in the welcome() function\n",
      "now you are back in the hi() function\n"
     ]
    },
    {
     "data": {
      "text/plain": [
       "'hi yasoob'"
      ]
     },
     "execution_count": 6,
     "metadata": {},
     "output_type": "execute_result"
    }
   ],
   "source": [
    "def hi(name=\"yasoob\"):\n",
    "    print(\"now you are inside the hi() function\")\n",
    "\n",
    "    def greet():\n",
    "        return \"now you are in the greet() function\"\n",
    "\n",
    "    def welcome():\n",
    "        return \"now you are in the welcome() function\"\n",
    "\n",
    "    print(greet())\n",
    "    print(welcome())\n",
    "    print(\"now you are back in the hi() function\")\n",
    "\n",
    "\n",
    "hi()\n",
    "# output:now you are inside the hi() function\n",
    "#       now you are in the greet() function\n",
    "#       now you are in the welcome() function\n",
    "#       now you are back in the hi() function\n",
    "\n",
    "# 上面展示了无论何时你调用hi(), greet()和welcome()将会同时被调用。\n",
    "# 然后greet()和welcome()函数在hi()函数之外是不能访问的，比如：\n",
    "\n",
    "greet()\n",
    "# outputs: NameError: name 'greet' is not defined"
   ]
  },
  {
   "cell_type": "markdown",
   "metadata": {},
   "source": [
    "3. 其实并不需要在一个函数里去执行另一个函数，我们也可以将其作为输出返回出来：在 if/else 语句中我们返回 greet 和 welcome，而不是 greet() 和 welcome()。为什么那样？这是因为当你把一对小括号放在后面，这个函数就会执行；然而如果你不放括号在它后面，那它可以被到处传递，并且可以赋值给别的变量而不去执行它。当我们写下 a = hi()，hi() 会被执行，而由于 name 参数默认是 yasoob，所以函数 greet 被返回了。如果我们把语句改为 a = hi(name = \"ali\")，那么 welcome 函数将被返回。我们还可以打印出 hi()()，这会输出 now you are in the greet() function。"
   ]
  },
  {
   "cell_type": "code",
   "execution_count": null,
   "metadata": {},
   "outputs": [],
   "source": [
    "def hi(name=\"yasoob\"):\n",
    "    def greet():\n",
    "        return \"now you are in the greet() function\"\n",
    "\n",
    "    def welcome():\n",
    "        return \"now you are in the welcome() function\"\n",
    "\n",
    "    if name == \"yasoob\":\n",
    "        return greet\n",
    "    else:\n",
    "        return welcome\n",
    "\n",
    "\n",
    "a = hi()\n",
    "print(a)\n",
    "# outputs: <function greet at 0x7f2143c01500>\n",
    "\n",
    "# 上面清晰地展示了`a`现在指向到hi()函数中的greet()函数\n",
    "# 现在试试这个\n",
    "\n",
    "print(a())\n",
    "# outputs: now you are in the greet() function"
   ]
  },
  {
   "cell_type": "markdown",
   "metadata": {},
   "source": [
    "4. 将函数作为参数传给另一个函数"
   ]
  },
  {
   "cell_type": "code",
   "execution_count": null,
   "metadata": {},
   "outputs": [],
   "source": [
    "def hi():\n",
    "    return \"hi yasoob!\"\n",
    "\n",
    "\n",
    "def doSomethingBeforeHi(func):\n",
    "    print(\"I am doing some boring work before executing hi()\")\n",
    "    print(func())\n",
    "\n",
    "\n",
    "doSomethingBeforeHi(hi)\n",
    "# outputs:I am doing some boring work before executing hi()\n",
    "#        hi yasoob!"
   ]
  },
  {
   "cell_type": "markdown",
   "metadata": {},
   "source": [
    "### 装饰器："
   ]
  },
  {
   "cell_type": "code",
   "execution_count": null,
   "metadata": {},
   "outputs": [],
   "source": []
  },
  {
   "cell_type": "markdown",
   "metadata": {},
   "source": [
    "## lambda（匿名函数）\n",
    "lambda 函数特点\n",
    "- lambda 函数是匿名的，它们没有函数名称，只能通过赋值或作为参数传递给其他函数来使用\n",
    "- lambda 函数通常只包含一行代码，这使得它们适用于编写简单的函数\n",
    "\n",
    "lambda 语法格式 `lambda arguments: expression`\n",
    "- lambda是python的关键字，用于定义lambda函数\n",
    "- arguments 是参数列表，可以包含零个或多个参数，但必须在冒号(:)前指定\n",
    "- expression是一个表达式，用于计算并返回函数的结果"
   ]
  },
  {
   "cell_type": "markdown",
   "metadata": {},
   "source": [
    "1. 定义简单函数，使用时作为一般函数使用"
   ]
  },
  {
   "cell_type": "code",
   "execution_count": null,
   "metadata": {},
   "outputs": [],
   "source": [
    "#  lambda 函数没有参数\n",
    "f = lambda: \"Hello, world!\"\n",
    "print(f())  # 输出: Hello, world!\n",
    "\n",
    "# 使用 lambda 设置单一个函数参数 a，函数计算参数 a 加 10\n",
    "x = lambda a: a + 10\n",
    "print(x(5))\n",
    "\n",
    "# 使用 lambda 设置多个函数参数 a、b 与 c 相加，并返回结果：\n",
    "x = lambda a, b, c: a + b + c\n",
    "print(x(1, 2, 3))"
   ]
  },
  {
   "cell_type": "markdown",
   "metadata": {},
   "source": [
    "1. lambda 函数通常与内置函数如 `map()`、`filter()` 和 `reduce()` 一起使用，作为参数传递给其他函数"
   ]
  },
  {
   "cell_type": "code",
   "execution_count": 6,
   "metadata": {},
   "outputs": [
    {
     "name": "stdout",
     "output_type": "stream",
     "text": [
      "[1, 4, 9, 16, 25]\n",
      "[2, 4, 6]\n",
      "120\n"
     ]
    }
   ],
   "source": [
    "\"\"\"在 Python 中，map()、filter() 和 reduce() 是用于函数式编程的高阶函数\"\"\"\n",
    "\n",
    "# map() 函数用于将一个函数应用于一个可迭代对象（如列表）中的每个元素，并返回一个迭代器\n",
    "numbers = [1, 2, 3, 4, 5]\n",
    "squared = list(map(lambda x: x**2, numbers))\n",
    "print(squared)  # 输出: [1, 4, 9, 16, 25]\n",
    "\n",
    "# filter() 函数用于筛选可迭代对象中的元素，保留使函数返回 True 的元素\n",
    "numbers = [1, 2, 3, 4, 5, 6]\n",
    "even_number = list(filter(lambda x: x % 2 == 0, numbers))\n",
    "print(even_number)\n",
    "\n",
    "# reduce() 函数用于对可迭代对象中的元素进行累积计算。它位于 functools 模块中，因此需要先导入。\n",
    "from functools import reduce\n",
    "\n",
    "numbers = [1, 2, 3, 4, 5]\n",
    "product = reduce(lambda x, y: x * y, numbers)\n",
    "print(product)"
   ]
  }
 ],
 "metadata": {
  "kernelspec": {
   "display_name": "Python 3",
   "language": "python",
   "name": "python3"
  },
  "language_info": {
   "codemirror_mode": {
    "name": "ipython",
    "version": 3
   },
   "file_extension": ".py",
   "mimetype": "text/x-python",
   "name": "python",
   "nbconvert_exporter": "python",
   "pygments_lexer": "ipython3",
   "version": "3.8.10"
  }
 },
 "nbformat": 4,
 "nbformat_minor": 2
}
