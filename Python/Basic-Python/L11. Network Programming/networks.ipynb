{
 "cells": [
  {
   "cell_type": "markdown",
   "metadata": {},
   "source": [
    "## Network Programming"
   ]
  },
  {
   "cell_type": "markdown",
   "metadata": {},
   "source": [
    "### 网络IP跳转和对应地址解析"
   ]
  },
  {
   "cell_type": "markdown",
   "metadata": {},
   "source": [
    "- ping 通常用来检测网络连通性，使用的是ICMP协议 (控制消息指网络通不通，主机可否达，路由是否可用)\n",
    "- tracert 是Windows下用来探测数据包经过网络路径的工具\n",
    "- traceroute 是Linux 下用来探测数据包经过网络路径的工具"
   ]
  },
  {
   "cell_type": "markdown",
   "metadata": {},
   "source": [
    "使用 Python 编写一个脚本来自动解析 IP 地址的地理位置信息。我们可以使用 `requests` 库和 `ipinfo.io` 的 API 来完成这个任务。它会提示你输入一个 IP 地址，并使用 `ipinfo.io` API 来获取并输出该 IP 地址的地理位置信息。"
   ]
  },
  {
   "cell_type": "code",
   "execution_count": 13,
   "metadata": {},
   "outputs": [
    {
     "name": "stdout",
     "output_type": "stream",
     "text": [
      "<class 'NoneType'>\n",
      "无法获取IP地址信息。\n"
     ]
    }
   ],
   "source": [
    "import requests\n",
    "\n",
    "def get_ip_info(ip_address):\n",
    "    url = f\"https://ipinfo.io/{ip_address}/json\"\n",
    "    response = requests.get(url)\n",
    "    if response.status_code == 200:\n",
    "        return response.json()\n",
    "    else:\n",
    "        return None\n",
    "\n",
    "def main():\n",
    "    ip_address = input(\"请输入IP地址: \")\n",
    "    info = get_ip_info(ip_address)\n",
    "    if info:\n",
    "        print(f\"IP: {info.get('ip', 'N/A')}\")\n",
    "        print(f\"City: {info.get('city', 'N/A')}\")\n",
    "        print(f\"Region: {info.get('region', 'N/A')}\")\n",
    "        print(f\"Country: {info.get('country', 'N/A')}\")\n",
    "        print(f\"Location: {info.get('loc', 'N/A')}\")\n",
    "        print(f\"Organization: {info.get('org', 'N/A')}\")\n",
    "        print(f\"Postal: {info.get('postal', 'N/A')}\")\n",
    "        print(f\"Timezone: {info.get('timezone', 'N/A')}\")\n",
    "    else:\n",
    "        print(\"无法获取IP地址信息。\")\n",
    "\n",
    "if __name__ == \"__main__\":\n",
    "    main()"
   ]
  },
  {
   "cell_type": "markdown",
   "metadata": {},
   "source": [
    "其次，这段代码添加提示是否在google map中打开对应地址的功能，若是则使用电脑默认浏览器打开google map查找ip对应的地理位置"
   ]
  },
  {
   "cell_type": "code",
   "execution_count": 6,
   "metadata": {},
   "outputs": [
    {
     "name": "stdout",
     "output_type": "stream",
     "text": [
      "IP: 185.18.139.133\n",
      "City: London\n",
      "Region: England\n",
      "Country: GB\n",
      "Location: 51.5085,-0.1257\n",
      "Organization: AS60885 Zengenti Ltd.\n",
      "Postal: E1W\n",
      "Timezone: Europe/London\n"
     ]
    }
   ],
   "source": [
    "import requests\n",
    "import webbrowser\n",
    "\n",
    "def get_ip_info(ip_address):\n",
    "    url = f\"https://ipinfo.io/{ip_address}/json\"\n",
    "    # requests.get(url) function sends a GET request to the specified URL. \n",
    "    # The response from the server is stored in the response variable.\n",
    "    response = requests.get(url)\n",
    "    # The status code of the response is checked to see if it is 200\n",
    "    # which means the request was successful.\n",
    "    if response.status_code == 200:\n",
    "        # If the request is successful, the JSON content of the response is returned using the json() method of the response object. \n",
    "        # This method parses the JSON response into a Python dictionary.\n",
    "        return response.json()\n",
    "    else:\n",
    "        return None\n",
    "\n",
    "def main():\n",
    "    ip_address = input(\"请输入IP地址: \")\n",
    "    info = get_ip_info(ip_address)\n",
    "    if info:\n",
    "        # The get method provides a default value ('N/A') if the key is not found in the dictionary.\n",
    "        print(f\"IP: {info.get('ip', 'N/A')}\")\n",
    "        print(f\"City: {info.get('city', 'N/A')}\")\n",
    "        print(f\"Region: {info.get('region', 'N/A')}\")\n",
    "        print(f\"Country: {info.get('country', 'N/A')}\")\n",
    "        print(f\"Location: {info.get('loc', 'N/A')}\")\n",
    "        print(f\"Organization: {info.get('org', 'N/A')}\")\n",
    "        print(f\"Postal: {info.get('postal', 'N/A')}\")\n",
    "        print(f\"Timezone: {info.get('timezone', 'N/A')}\")\n",
    "\n",
    "        # 提示用户是否在 Google Maps 中打开位置\n",
    "        open_in_maps = input(\"是否在 Google Maps 中打开此位置？(yes/no): \").strip().lower()\n",
    "        if open_in_maps == 'yes' and info.get('loc'):\n",
    "            location = info['loc']\n",
    "            maps_url = f\"https://www.google.com/maps?q={location}\"\n",
    "            webbrowser.open(maps_url)\n",
    "    else:\n",
    "        print(\"无法获取IP地址信息。\")\n",
    "\n",
    "if __name__ == \"__main__\":\n",
    "    main()\n"
   ]
  }
 ],
 "metadata": {
  "kernelspec": {
   "display_name": "Python 3",
   "language": "python",
   "name": "python3"
  },
  "language_info": {
   "codemirror_mode": {
    "name": "ipython",
    "version": 3
   },
   "file_extension": ".py",
   "mimetype": "text/x-python",
   "name": "python",
   "nbconvert_exporter": "python",
   "pygments_lexer": "ipython3",
   "version": "3.8.10"
  }
 },
 "nbformat": 4,
 "nbformat_minor": 2
}
