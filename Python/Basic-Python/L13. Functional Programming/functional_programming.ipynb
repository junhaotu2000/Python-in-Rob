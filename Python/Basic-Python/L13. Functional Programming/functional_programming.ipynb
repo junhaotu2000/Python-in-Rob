{
 "cells": [
  {
   "cell_type": "markdown",
   "metadata": {},
   "source": [
    "函数是Python内建支持的一种封装，我们通过把大段代码拆成函数，通过一层一层的函数调用，就可以把复杂任务分解成简单的任务，这种分解可以称之为面向过程的程序设计。函数就是面向过程的程序设计的基本单元。而函数式编程——Functional Programming，虽然也可以归结到面向过程的程序设计，但其思想更接近数学计算。函数式编程的一个特点就是，`允许把函数本身作为参数传入另一个函数，还允许返回一个函数`"
   ]
  },
  {
   "cell_type": "markdown",
   "metadata": {},
   "source": [
    "### 变量可以指向函数"
   ]
  },
  {
   "cell_type": "code",
   "execution_count": 3,
   "metadata": {},
   "outputs": [
    {
     "name": "stdout",
     "output_type": "stream",
     "text": [
      "10\n",
      "<built-in function abs>\n",
      "10\n"
     ]
    }
   ],
   "source": [
    "print(abs(-10))  # 函数的调用\n",
    "print(abs)  # 函数本身\n",
    "\n",
    "f = abs  # 把函数本身赋值给变量， 使得变量可以指向函数本身\n",
    "print(f(-10))  # 直接调用abs()函数和调用变量f()完全相同"
   ]
  },
  {
   "cell_type": "markdown",
   "metadata": {},
   "source": [
    "### 函数名也是变量"
   ]
  },
  {
   "cell_type": "code",
   "execution_count": null,
   "metadata": {},
   "outputs": [],
   "source": []
  }
 ],
 "metadata": {
  "kernelspec": {
   "display_name": "base",
   "language": "python",
   "name": "python3"
  },
  "language_info": {
   "codemirror_mode": {
    "name": "ipython",
    "version": 3
   },
   "file_extension": ".py",
   "mimetype": "text/x-python",
   "name": "python",
   "nbconvert_exporter": "python",
   "pygments_lexer": "ipython3",
   "version": "3.12.4"
  }
 },
 "nbformat": 4,
 "nbformat_minor": 2
}
