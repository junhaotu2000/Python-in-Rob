{
 "cells": [
  {
   "cell_type": "markdown",
   "metadata": {},
   "source": [
    "# Threading and Multiprocessing"
   ]
  },
  {
   "cell_type": "markdown",
   "metadata": {},
   "source": [
    "I/O Bounded Task 和 CPU Bounded Task 是两种不同类型的计算任务，它们的主要区别在于它们对系统资源的需求和瓶颈所在。\n",
    "\n",
    "**I/O受限任务（I/O Bounded Task）**:\n",
    "   - 这类任务的性能瓶颈主要在于输入/输出操作，比如硬盘读写或网络通信。\n",
    "   - 在这种情况下，CPU可能会花费大量时间等待I/O操作完成，因此CPU的使用率并不高。\n",
    "   - 优化这类任务通常涉及提高I/O效率，比如使用更快的存储设备、优化网络通信或使用高效的数据读写算法。\n",
    "\n",
    "**CPU受限任务（CPU Bounded Task）**:\n",
    "   - 这类任务的性能瓶颈主要在于CPU的计算能力。\n",
    "   - 这类任务会密集使用CPU进行计算，如复杂的数学运算、数据处理或图形渲染。\n",
    "   - 在这种情况下，CPU的使用率非常高，而I/O操作相对较少。\n",
    "   - 优化这类任务通常涉及提高计算效率，比如优化算法、使用更快的处理器或并行处理。\n",
    "\n",
    "For a I/O bounded task, threading and concurrency can remarkably improve the efficiency. However, the previous methods have a little effect on the CPU bounded task. Therefore, multiprocessing is used for the CPU bounded tasks."
   ]
  },
  {
   "cell_type": "markdown",
   "metadata": {},
   "source": [
    "## [Run Code Concurrently Using the Threading Module](https://www.youtube.com/watch?v=IEEhzQoKtQU&t=5s)"
   ]
  },
  {
   "cell_type": "code",
   "execution_count": null,
   "metadata": {},
   "outputs": [],
   "source": [
    "import threading\n",
    "import time\n",
    "\n",
    "\n",
    "def do_something():\n",
    "    print(\"Sleeping 1 second ...\")\n",
    "    time.sleep(1)\n",
    "    print(\"Done Sleeping ... \")\n",
    "\n",
    "\n",
    "start = time.perf_counter()\n",
    "\n",
    "# create two threads\n",
    "t1 = threading.Thread(target=do_something)  # only pass do_something\n",
    "t2 = threading.Thread(target=do_something)\n",
    "\n",
    "# start threads (Now, the program have three threads)\n",
    "t1.start()\n",
    "t2.start()\n",
    "\n",
    "# joins two threads back into main thread\n",
    "t1.join()\n",
    "t2.join()\n",
    "\n",
    "\"\"\" do_something()\n",
    "do_something() \"\"\"\n",
    "\n",
    "finish = time.perf_counter()\n",
    "\n",
    "print(f\"Finished in {round(finish-start, 2)} seconds\")"
   ]
  },
  {
   "cell_type": "markdown",
   "metadata": {},
   "source": [
    "### A standard way of doing threading"
   ]
  },
  {
   "cell_type": "code",
   "execution_count": null,
   "metadata": {},
   "outputs": [],
   "source": [
    "import threading\n",
    "import time\n",
    "\n",
    "\n",
    "def do_something(seconds):\n",
    "    print(f\"Sleeping {seconds} seconds ...\")\n",
    "    time.sleep(seconds)\n",
    "    print(f\"Done Sleeping ... \")\n",
    "\n",
    "\n",
    "start = time.perf_counter()\n",
    "\n",
    "\"\"\" A standard way of doing threading \"\"\"\n",
    "threads = []\n",
    "# create 10 threads\n",
    "for _ in range(10):\n",
    "    t = threading.Thread(target=do_something, args=[1.5])  # args should be a list\n",
    "    t.start()\n",
    "    threads.append(t)\n",
    "\n",
    "# join 10 threads\n",
    "for thread in threads:\n",
    "    thread.join()\n",
    "\n",
    "finish = time.perf_counter()\n",
    "\n",
    "print(f\"Finished in {round(finish-start, 2)} seconds\")"
   ]
  },
  {
   "cell_type": "markdown",
   "metadata": {},
   "source": [
    "### Thread pool method"
   ]
  },
  {
   "cell_type": "code",
   "execution_count": null,
   "metadata": {},
   "outputs": [],
   "source": [
    "import concurrent.futures\n",
    "import time\n",
    "\n",
    "\n",
    "def do_something(seconds):\n",
    "    print(f\"Sleeping {seconds} seconds ...\")\n",
    "    time.sleep(seconds)\n",
    "    return \"Done Sleeping ... \"\n",
    "\n",
    "\n",
    "start = time.perf_counter()\n",
    "\n",
    "\"\"\" Thread pool method \"\"\"\n",
    "# two threads\n",
    "with concurrent.futures.ThreadPoolExecutor() as executor:\n",
    "    f1 = executor.submit(do_something, 1)\n",
    "    f2 = executor.submit(do_something, 1)\n",
    "\n",
    "    print(f1.result())\n",
    "    print(f2.result())\n",
    "\n",
    "finish = time.perf_counter()\n",
    "\n",
    "print(f\"Finished in {round(finish-start, 2)} seconds\")"
   ]
  },
  {
   "cell_type": "code",
   "execution_count": null,
   "metadata": {},
   "outputs": [],
   "source": [
    "import concurrent.futures\n",
    "import time\n",
    "\n",
    "\n",
    "def do_something(seconds):\n",
    "    print(f\"Sleeping {seconds} seconds ...\")\n",
    "    time.sleep(seconds)\n",
    "    return f\"Done Sleeping ...{seconds} \"\n",
    "\n",
    "\n",
    "start = time.perf_counter()\n",
    "\n",
    "\"\"\" Thread pool method \"\"\"\n",
    "# mutliple threads\n",
    "with concurrent.futures.ThreadPoolExecutor() as executor:\n",
    "    secs = [5, 4, 3, 2, 1]\n",
    "\n",
    "    # - list comprehension\n",
    "    results = [\n",
    "        executor.submit(do_something, sec) for sec in secs\n",
    "    ]  # return a future object, need classmethod to read it out\n",
    "    for f in concurrent.futures.as_completed(results):  # act as join\n",
    "        print(f.result())\n",
    "\n",
    "    # - map method: the simplist way to do threading\n",
    "    results = executor.map(do_something, secs)  # directly return a list of result\n",
    "    for result in results:\n",
    "        print(result)\n",
    "\n",
    "finish = time.perf_counter()\n",
    "\n",
    "print(f\"Finished in {round(finish-start, 2)} seconds\")"
   ]
  },
  {
   "cell_type": "markdown",
   "metadata": {},
   "source": [
    "Refer to `download-images.py` file for a real world I/O task, which is downlaod manu high-res image form url."
   ]
  },
  {
   "cell_type": "markdown",
   "metadata": {},
   "source": [
    "## [Run Code in Parallel Using the Multiprocessing Module](https://www.youtube.com/watch?v=fKl2JW_qrso)"
   ]
  },
  {
   "cell_type": "code",
   "execution_count": null,
   "metadata": {},
   "outputs": [],
   "source": []
  }
 ],
 "metadata": {
  "kernelspec": {
   "display_name": "base",
   "language": "python",
   "name": "python3"
  },
  "language_info": {
   "codemirror_mode": {
    "name": "ipython",
    "version": 3
   },
   "file_extension": ".py",
   "mimetype": "text/x-python",
   "name": "python",
   "nbconvert_exporter": "python",
   "pygments_lexer": "ipython3",
   "version": "3.8.10"
  }
 },
 "nbformat": 4,
 "nbformat_minor": 2
}
